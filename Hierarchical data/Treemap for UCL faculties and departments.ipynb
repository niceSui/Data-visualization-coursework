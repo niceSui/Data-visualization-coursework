{
 "cells": [
  {
   "cell_type": "markdown",
   "id": "b1c8b1d4",
   "metadata": {},
   "source": [
    "![My Image](MacBook.jpg)"
   ]
  },
  {
   "cell_type": "markdown",
   "id": "c28e268c",
   "metadata": {},
   "source": [
    "### Scraping data from a website."
   ]
  },
  {
   "cell_type": "code",
   "execution_count": 25,
   "id": "ae5462dd",
   "metadata": {},
   "outputs": [
    {
     "data": {
      "text/html": [
       "<div>\n",
       "<style scoped>\n",
       "    .dataframe tbody tr th:only-of-type {\n",
       "        vertical-align: middle;\n",
       "    }\n",
       "\n",
       "    .dataframe tbody tr th {\n",
       "        vertical-align: top;\n",
       "    }\n",
       "\n",
       "    .dataframe thead th {\n",
       "        text-align: right;\n",
       "    }\n",
       "</style>\n",
       "<table border=\"1\" class=\"dataframe\">\n",
       "  <thead>\n",
       "    <tr style=\"text-align: right;\">\n",
       "      <th></th>\n",
       "      <th>Faculty</th>\n",
       "      <th>Department</th>\n",
       "    </tr>\n",
       "  </thead>\n",
       "  <tbody>\n",
       "    <tr>\n",
       "      <th>0</th>\n",
       "      <td>Faculty of Mathematical and Physical Sciences</td>\n",
       "      <td>Chemistry</td>\n",
       "    </tr>\n",
       "    <tr>\n",
       "      <th>1</th>\n",
       "      <td>Faculty of Mathematical and Physical Sciences</td>\n",
       "      <td>Earth Sciences</td>\n",
       "    </tr>\n",
       "    <tr>\n",
       "      <th>2</th>\n",
       "      <td>Faculty of Mathematical and Physical Sciences</td>\n",
       "      <td>Mathematics</td>\n",
       "    </tr>\n",
       "    <tr>\n",
       "      <th>3</th>\n",
       "      <td>Faculty of Mathematical and Physical Sciences</td>\n",
       "      <td>Physics and Astronomy</td>\n",
       "    </tr>\n",
       "    <tr>\n",
       "      <th>4</th>\n",
       "      <td>Faculty of Mathematical and Physical Sciences</td>\n",
       "      <td>Science and Technology Studies</td>\n",
       "    </tr>\n",
       "    <tr>\n",
       "      <th>...</th>\n",
       "      <td>...</td>\n",
       "      <td>...</td>\n",
       "    </tr>\n",
       "    <tr>\n",
       "      <th>69</th>\n",
       "      <td>Faculty of Engineering Sciences</td>\n",
       "      <td>Science, Technology, Engineering and Public Po...</td>\n",
       "    </tr>\n",
       "    <tr>\n",
       "      <th>70</th>\n",
       "      <td>Faculty of Engineering Sciences</td>\n",
       "      <td>Security and Crime Science</td>\n",
       "    </tr>\n",
       "    <tr>\n",
       "      <th>71</th>\n",
       "      <td>Faculty of Engineering Sciences</td>\n",
       "      <td>UCL School of Management</td>\n",
       "    </tr>\n",
       "    <tr>\n",
       "      <th>72</th>\n",
       "      <td>Faculty of Laws</td>\n",
       "      <td>Faculty of Laws</td>\n",
       "    </tr>\n",
       "    <tr>\n",
       "      <th>73</th>\n",
       "      <td>UCL Institute of Education</td>\n",
       "      <td>UCL Institute of Education</td>\n",
       "    </tr>\n",
       "  </tbody>\n",
       "</table>\n",
       "<p>74 rows × 2 columns</p>\n",
       "</div>"
      ],
      "text/plain": [
       "                                          Faculty  \\\n",
       "0   Faculty of Mathematical and Physical Sciences   \n",
       "1   Faculty of Mathematical and Physical Sciences   \n",
       "2   Faculty of Mathematical and Physical Sciences   \n",
       "3   Faculty of Mathematical and Physical Sciences   \n",
       "4   Faculty of Mathematical and Physical Sciences   \n",
       "..                                            ...   \n",
       "69                Faculty of Engineering Sciences   \n",
       "70                Faculty of Engineering Sciences   \n",
       "71                Faculty of Engineering Sciences   \n",
       "72                                Faculty of Laws   \n",
       "73                     UCL Institute of Education   \n",
       "\n",
       "                                           Department  \n",
       "0                                           Chemistry  \n",
       "1                                      Earth Sciences  \n",
       "2                                         Mathematics  \n",
       "3                               Physics and Astronomy  \n",
       "4                      Science and Technology Studies  \n",
       "..                                                ...  \n",
       "69  Science, Technology, Engineering and Public Po...  \n",
       "70                         Security and Crime Science  \n",
       "71                           UCL School of Management  \n",
       "72                                    Faculty of Laws  \n",
       "73                         UCL Institute of Education  \n",
       "\n",
       "[74 rows x 2 columns]"
      ]
     },
     "execution_count": 25,
     "metadata": {},
     "output_type": "execute_result"
    }
   ],
   "source": [
    "import pandas as pd\n",
    "import requests\n",
    "from bs4 import BeautifulSoup\n",
    "url = \"https://www.ucl.ac.uk/governance-compliance/academic-structure/academic-units\"\n",
    "response = requests.get(url)\n",
    "soup = BeautifulSoup(response.text, 'html.parser')\n",
    "faculty_list = []\n",
    "current_faculty = []\n",
    "current_department = []\n",
    "\n",
    "for section in soup.find_all('section', class_ = 'middle-split__column2'):\n",
    "    first_p = section.find('p')\n",
    "    for a in first_p.find_all('a'):\n",
    "        if a.find('strong') is not None and a.find('strong').text.strip() == a.text.strip():\n",
    "            if current_faculty:\n",
    "                faculty_list.append({'faculty': current_faculty, 'departments': current_department})\n",
    "                current_department = []\n",
    "            current_faculty = a.get_text().strip()\n",
    "        elif a.find_parent('strong') is not None and a.find_parent('strong').text.strip() == a.text.strip():\n",
    "            if current_faculty:\n",
    "                faculty_list.append({'faculty': current_faculty, 'departments': current_department})\n",
    "                current_department = []\n",
    "            current_faculty = a.get_text().strip()\n",
    "        else:\n",
    "            current_department.append(a.get_text().strip())\n",
    "\n",
    "\n",
    "faculty_list.append({'faculty': current_faculty, 'departments': current_department})\n",
    "\n",
    "for section in soup.find_all('section', class_ = 'middle-split__column1'):\n",
    "    for p in section.find_all('p'):\n",
    "        for a in p.find_all('a'):\n",
    "            if a.find('strong') is not None and a.find('strong').text.strip() == a.text.strip():\n",
    "                if current_faculty:\n",
    "                    faculty_list.append({'faculty': current_faculty, 'departments': current_department})\n",
    "                    current_department = []\n",
    "                current_faculty = a.get_text().strip()\n",
    "            elif a.find_parent('strong') is not None and a.find_parent('strong').text.strip() == a.text.strip():\n",
    "                if current_faculty:\n",
    "                    faculty_list.append({'faculty': current_faculty, 'departments': current_department})\n",
    "                    current_department = []\n",
    "                current_faculty = a.get_text().strip()\n",
    "            else:\n",
    "                current_department.append(a.get_text().strip())\n",
    "\n",
    "\n",
    "# Convert faculty_list to DataFrame\n",
    "df = pd.DataFrame(faculty_list)\n",
    "\n",
    "# Explode departments column\n",
    "df = df.explode('departments')\n",
    "\n",
    "# Write to CSV file\n",
    "df.to_csv('faculty_departments.csv', index=False)\n",
    "df.to_excel('faculty_departments.xlsx', index=False)\n",
    "\n",
    "structure = pd.read_csv('faculty_departments_transformed.csv')\n",
    "structure = structure[['faculty','departments']]\n",
    "structure = structure.rename(columns = {'faculty':'Faculty', 'departments':'Department'})\n",
    "structure"
   ]
  },
  {
   "cell_type": "code",
   "execution_count": null,
   "id": "34084105",
   "metadata": {},
   "outputs": [],
   "source": []
  },
  {
   "cell_type": "code",
   "execution_count": 2,
   "id": "2dcbe3b0",
   "metadata": {},
   "outputs": [
    {
     "data": {
      "text/html": [
       "<div>\n",
       "<style scoped>\n",
       "    .dataframe tbody tr th:only-of-type {\n",
       "        vertical-align: middle;\n",
       "    }\n",
       "\n",
       "    .dataframe tbody tr th {\n",
       "        vertical-align: top;\n",
       "    }\n",
       "\n",
       "    .dataframe thead th {\n",
       "        text-align: right;\n",
       "    }\n",
       "</style>\n",
       "<table border=\"1\" class=\"dataframe\">\n",
       "  <thead>\n",
       "    <tr style=\"text-align: right;\">\n",
       "      <th></th>\n",
       "      <th>Department</th>\n",
       "      <th>Male</th>\n",
       "      <th>Female</th>\n",
       "      <th>Other</th>\n",
       "      <th>Total</th>\n",
       "    </tr>\n",
       "  </thead>\n",
       "  <tbody>\n",
       "    <tr>\n",
       "      <th>0</th>\n",
       "      <td>Institute of the Americas</td>\n",
       "      <td>95</td>\n",
       "      <td>105</td>\n",
       "      <td>0</td>\n",
       "      <td>200</td>\n",
       "    </tr>\n",
       "    <tr>\n",
       "      <th>1</th>\n",
       "      <td>Anthropology</td>\n",
       "      <td>140</td>\n",
       "      <td>525</td>\n",
       "      <td>0</td>\n",
       "      <td>665</td>\n",
       "    </tr>\n",
       "    <tr>\n",
       "      <th>2</th>\n",
       "      <td>Arts and Sciences BASc</td>\n",
       "      <td>110</td>\n",
       "      <td>400</td>\n",
       "      <td>0</td>\n",
       "      <td>510</td>\n",
       "    </tr>\n",
       "    <tr>\n",
       "      <th>3</th>\n",
       "      <td>Institute of Archaeology</td>\n",
       "      <td>105</td>\n",
       "      <td>330</td>\n",
       "      <td>5</td>\n",
       "      <td>440</td>\n",
       "    </tr>\n",
       "    <tr>\n",
       "      <th>4</th>\n",
       "      <td>Bartlett Real Estate Institute</td>\n",
       "      <td>0</td>\n",
       "      <td>0</td>\n",
       "      <td>0</td>\n",
       "      <td>0</td>\n",
       "    </tr>\n",
       "    <tr>\n",
       "      <th>...</th>\n",
       "      <td>...</td>\n",
       "      <td>...</td>\n",
       "      <td>...</td>\n",
       "      <td>...</td>\n",
       "      <td>...</td>\n",
       "    </tr>\n",
       "    <tr>\n",
       "      <th>80</th>\n",
       "      <td>UCL Queen Square Institute of Neurology</td>\n",
       "      <td>150</td>\n",
       "      <td>275</td>\n",
       "      <td>0</td>\n",
       "      <td>425</td>\n",
       "    </tr>\n",
       "    <tr>\n",
       "      <th>81</th>\n",
       "      <td>Institute of Ophthalmology</td>\n",
       "      <td>80</td>\n",
       "      <td>165</td>\n",
       "      <td>0</td>\n",
       "      <td>245</td>\n",
       "    </tr>\n",
       "    <tr>\n",
       "      <th>82</th>\n",
       "      <td>Division of Surgery and Interventional Science</td>\n",
       "      <td>260</td>\n",
       "      <td>310</td>\n",
       "      <td>0</td>\n",
       "      <td>570</td>\n",
       "    </tr>\n",
       "    <tr>\n",
       "      <th>83</th>\n",
       "      <td>UCL Elizabeth Garrett Anderson Institute for W...</td>\n",
       "      <td>10</td>\n",
       "      <td>115</td>\n",
       "      <td>0</td>\n",
       "      <td>125</td>\n",
       "    </tr>\n",
       "    <tr>\n",
       "      <th>84</th>\n",
       "      <td>Total</td>\n",
       "      <td>19440</td>\n",
       "      <td>28705</td>\n",
       "      <td>15</td>\n",
       "      <td>48160</td>\n",
       "    </tr>\n",
       "  </tbody>\n",
       "</table>\n",
       "<p>85 rows × 5 columns</p>\n",
       "</div>"
      ],
      "text/plain": [
       "                                           Department   Male  Female  Other  \\\n",
       "0                           Institute of the Americas     95     105      0   \n",
       "1                                        Anthropology    140     525      0   \n",
       "2                              Arts and Sciences BASc    110     400      0   \n",
       "3                            Institute of Archaeology    105     330      5   \n",
       "4                      Bartlett Real Estate Institute      0       0      0   \n",
       "..                                                ...    ...     ...    ...   \n",
       "80            UCL Queen Square Institute of Neurology    150     275      0   \n",
       "81                         Institute of Ophthalmology     80     165      0   \n",
       "82     Division of Surgery and Interventional Science    260     310      0   \n",
       "83  UCL Elizabeth Garrett Anderson Institute for W...     10     115      0   \n",
       "84                                              Total  19440   28705     15   \n",
       "\n",
       "    Total  \n",
       "0     200  \n",
       "1     665  \n",
       "2     510  \n",
       "3     440  \n",
       "4       0  \n",
       "..    ...  \n",
       "80    425  \n",
       "81    245  \n",
       "82    570  \n",
       "83    125  \n",
       "84  48160  \n",
       "\n",
       "[85 rows x 5 columns]"
      ]
     },
     "execution_count": 2,
     "metadata": {},
     "output_type": "execute_result"
    }
   ],
   "source": [
    "department = pd.read_csv('department.csv')\n",
    "department"
   ]
  },
  {
   "cell_type": "code",
   "execution_count": 3,
   "id": "369fe81b",
   "metadata": {
    "scrolled": true
   },
   "outputs": [
    {
     "data": {
      "text/html": [
       "<div>\n",
       "<style scoped>\n",
       "    .dataframe tbody tr th:only-of-type {\n",
       "        vertical-align: middle;\n",
       "    }\n",
       "\n",
       "    .dataframe tbody tr th {\n",
       "        vertical-align: top;\n",
       "    }\n",
       "\n",
       "    .dataframe thead th {\n",
       "        text-align: right;\n",
       "    }\n",
       "</style>\n",
       "<table border=\"1\" class=\"dataframe\">\n",
       "  <thead>\n",
       "    <tr style=\"text-align: right;\">\n",
       "      <th></th>\n",
       "      <th>Faculty</th>\n",
       "      <th>Department</th>\n",
       "      <th>Male</th>\n",
       "      <th>Female</th>\n",
       "      <th>Other</th>\n",
       "      <th>Total</th>\n",
       "    </tr>\n",
       "  </thead>\n",
       "  <tbody>\n",
       "    <tr>\n",
       "      <th>0</th>\n",
       "      <td>Faculty of Mathematical and Physical Sciences</td>\n",
       "      <td>Chemistry</td>\n",
       "      <td>440.0</td>\n",
       "      <td>455.0</td>\n",
       "      <td>0.0</td>\n",
       "      <td>895.0</td>\n",
       "    </tr>\n",
       "    <tr>\n",
       "      <th>1</th>\n",
       "      <td>Faculty of Mathematical and Physical Sciences</td>\n",
       "      <td>Earth Sciences</td>\n",
       "      <td>135.0</td>\n",
       "      <td>140.0</td>\n",
       "      <td>0.0</td>\n",
       "      <td>275.0</td>\n",
       "    </tr>\n",
       "    <tr>\n",
       "      <th>2</th>\n",
       "      <td>Faculty of Mathematical and Physical Sciences</td>\n",
       "      <td>Mathematics</td>\n",
       "      <td>600.0</td>\n",
       "      <td>545.0</td>\n",
       "      <td>0.0</td>\n",
       "      <td>1145.0</td>\n",
       "    </tr>\n",
       "    <tr>\n",
       "      <th>3</th>\n",
       "      <td>Faculty of Mathematical and Physical Sciences</td>\n",
       "      <td>Physics and Astronomy</td>\n",
       "      <td>835.0</td>\n",
       "      <td>300.0</td>\n",
       "      <td>0.0</td>\n",
       "      <td>1135.0</td>\n",
       "    </tr>\n",
       "    <tr>\n",
       "      <th>4</th>\n",
       "      <td>Faculty of Mathematical and Physical Sciences</td>\n",
       "      <td>Science and Technology Studies</td>\n",
       "      <td>70.0</td>\n",
       "      <td>140.0</td>\n",
       "      <td>0.0</td>\n",
       "      <td>210.0</td>\n",
       "    </tr>\n",
       "    <tr>\n",
       "      <th>...</th>\n",
       "      <td>...</td>\n",
       "      <td>...</td>\n",
       "      <td>...</td>\n",
       "      <td>...</td>\n",
       "      <td>...</td>\n",
       "      <td>...</td>\n",
       "    </tr>\n",
       "    <tr>\n",
       "      <th>69</th>\n",
       "      <td>Faculty of Engineering Sciences</td>\n",
       "      <td>Science, Technology, Engineering and Public Po...</td>\n",
       "      <td>45.0</td>\n",
       "      <td>45.0</td>\n",
       "      <td>0.0</td>\n",
       "      <td>90.0</td>\n",
       "    </tr>\n",
       "    <tr>\n",
       "      <th>70</th>\n",
       "      <td>Faculty of Engineering Sciences</td>\n",
       "      <td>Security and Crime Science</td>\n",
       "      <td>115.0</td>\n",
       "      <td>170.0</td>\n",
       "      <td>0.0</td>\n",
       "      <td>285.0</td>\n",
       "    </tr>\n",
       "    <tr>\n",
       "      <th>71</th>\n",
       "      <td>Faculty of Engineering Sciences</td>\n",
       "      <td>UCL School of Management</td>\n",
       "      <td>975.0</td>\n",
       "      <td>1145.0</td>\n",
       "      <td>0.0</td>\n",
       "      <td>2120.0</td>\n",
       "    </tr>\n",
       "    <tr>\n",
       "      <th>72</th>\n",
       "      <td>Faculty of Laws</td>\n",
       "      <td>Faculty of Laws</td>\n",
       "      <td>NaN</td>\n",
       "      <td>NaN</td>\n",
       "      <td>NaN</td>\n",
       "      <td>NaN</td>\n",
       "    </tr>\n",
       "    <tr>\n",
       "      <th>73</th>\n",
       "      <td>UCL Institute of Education</td>\n",
       "      <td>UCL Institute of Education</td>\n",
       "      <td>10.0</td>\n",
       "      <td>35.0</td>\n",
       "      <td>0.0</td>\n",
       "      <td>45.0</td>\n",
       "    </tr>\n",
       "  </tbody>\n",
       "</table>\n",
       "<p>74 rows × 6 columns</p>\n",
       "</div>"
      ],
      "text/plain": [
       "                                          Faculty  \\\n",
       "0   Faculty of Mathematical and Physical Sciences   \n",
       "1   Faculty of Mathematical and Physical Sciences   \n",
       "2   Faculty of Mathematical and Physical Sciences   \n",
       "3   Faculty of Mathematical and Physical Sciences   \n",
       "4   Faculty of Mathematical and Physical Sciences   \n",
       "..                                            ...   \n",
       "69                Faculty of Engineering Sciences   \n",
       "70                Faculty of Engineering Sciences   \n",
       "71                Faculty of Engineering Sciences   \n",
       "72                                Faculty of Laws   \n",
       "73                     UCL Institute of Education   \n",
       "\n",
       "                                           Department   Male  Female  Other  \\\n",
       "0                                           Chemistry  440.0   455.0    0.0   \n",
       "1                                      Earth Sciences  135.0   140.0    0.0   \n",
       "2                                         Mathematics  600.0   545.0    0.0   \n",
       "3                               Physics and Astronomy  835.0   300.0    0.0   \n",
       "4                      Science and Technology Studies   70.0   140.0    0.0   \n",
       "..                                                ...    ...     ...    ...   \n",
       "69  Science, Technology, Engineering and Public Po...   45.0    45.0    0.0   \n",
       "70                         Security and Crime Science  115.0   170.0    0.0   \n",
       "71                           UCL School of Management  975.0  1145.0    0.0   \n",
       "72                                    Faculty of Laws    NaN     NaN    NaN   \n",
       "73                         UCL Institute of Education   10.0    35.0    0.0   \n",
       "\n",
       "     Total  \n",
       "0    895.0  \n",
       "1    275.0  \n",
       "2   1145.0  \n",
       "3   1135.0  \n",
       "4    210.0  \n",
       "..     ...  \n",
       "69    90.0  \n",
       "70   285.0  \n",
       "71  2120.0  \n",
       "72     NaN  \n",
       "73    45.0  \n",
       "\n",
       "[74 rows x 6 columns]"
      ]
     },
     "execution_count": 3,
     "metadata": {},
     "output_type": "execute_result"
    }
   ],
   "source": [
    "\n",
    "structure.to_csv('structure_with_total.csv', index=False)\n",
    "merged = pd.merge(structure, department, on='Department', how='left')\n",
    "\n",
    "merged"
   ]
  },
  {
   "cell_type": "code",
   "execution_count": 21,
   "id": "12fbd0e6",
   "metadata": {},
   "outputs": [
    {
     "data": {
      "application/vnd.plotly.v1+json": {
       "config": {
        "plotlyServerURL": "https://plot.ly"
       },
       "data": [
        {
         "branchvalues": "total",
         "customdata": [
          [
           285,
           "Faculty of Engineering Sciences"
          ],
          [
           90,
           "Faculty of Engineering Sciences"
          ],
          [
           210,
           "Faculty of Mathematical and Physical Sciences"
          ],
          [
           750,
           "Faculty of Arts and Humanities"
          ],
          [
           2190,
           "Faculty of Social and Historical Sciences"
          ],
          [
           1135,
           "Faculty of Mathematical and Physical Sciences"
          ],
          [
           305,
           "Faculty of Arts and Humanities"
          ],
          [
           405,
           "Faculty of Engineering Sciences"
          ],
          [
           220,
           "Faculty of Mathematical and Physical Sciences"
          ],
          [
           0,
           "Faculty of the Built Environment"
          ],
          [
           0,
           "Faculty of the Built Environment"
          ],
          [
           0,
           "Faculty of the Built Environment"
          ],
          [
           0,
           "Faculty of the Built Environment"
          ],
          [
           670,
           "Faculty of Mathematical and Physical Sciences"
          ],
          [
           255,
           "Faculty of Arts and Humanities"
          ],
          [
           425,
           "Faculty of Brain Sciences"
          ],
          [
           2120,
           "Faculty of Engineering Sciences"
          ],
          [
           0,
           "Faculty of the Built Environment"
          ],
          [
           0,
           "Faculty of Brain Sciences"
          ],
          [
           2260,
           "Faculty of Arts and Humanities"
          ],
          [
           3505,
           "Faculty of Brain Sciences"
          ],
          [
           7025,
           "Faculty of Engineering Sciences"
          ],
          [
           0,
           "Faculty of Laws"
          ],
          [
           4635,
           "Faculty of Mathematical and Physical Sciences"
          ],
          [
           3745,
           "Faculty of Medical Sciences"
          ],
          [
           965,
           "Faculty of Population Health Sciences"
          ],
          [
           1330,
           "Faculty of Social and Historical Sciences"
          ],
          [
           295,
           "Faculty of Engineering Sciences"
          ],
          [
           215,
           "Faculty of Medical Sciences"
          ],
          [
           630,
           "Faculty of Engineering Sciences"
          ],
          [
           895,
           "Faculty of Mathematical and Physical Sciences"
          ],
          [
           0,
           "Faculty of Engineering Sciences"
          ],
          [
           1375,
           "Faculty of Engineering Sciences"
          ],
          [
           120,
           "Faculty of Medical Sciences"
          ],
          [
           580,
           "Faculty of Medical Sciences"
          ],
          [
           235,
           "Faculty of Brain Sciences"
          ],
          [
           2485,
           "Faculty of Brain Sciences"
          ],
          [
           100,
           "Faculty of Brain Sciences"
          ],
          [
           275,
           "Faculty of Mathematical and Physical Sciences"
          ],
          [
           570,
           "Faculty of Medical Sciences"
          ],
          [
           290,
           "Faculty of Medical Sciences"
          ],
          [
           2760,
           "Faculty of Social and Historical Sciences"
          ],
          [
           825,
           "Faculty of Engineering Sciences"
          ],
          [
           420,
           "Faculty of Arts and Humanities"
          ],
          [
           0,
           "Faculty of Laws"
          ],
          [
           1370,
           "Faculty of Social and Historical Sciences"
          ],
          [
           0,
           "Faculty of Population Health Sciences"
          ],
          [
           195,
           "Faculty of Arts and Humanities"
          ],
          [
           1145,
           "Faculty of Mathematical and Physical Sciences"
          ],
          [
           400,
           "Faculty of Social and Historical Sciences"
          ],
          [
           15,
           "Faculty of Brain Sciences"
          ],
          [
           245,
           "Faculty of Brain Sciences"
          ],
          [
           225,
           "Faculty of Population Health Sciences"
          ],
          [
           50,
           "Faculty of Arts and Humanities"
          ],
          [
           1590,
           "Faculty of Social and Historical Sciences"
          ],
          [
           500,
           "Faculty of Social and Historical Sciences"
          ],
          [
           285,
           "Faculty of Arts and Humanities"
          ],
          [
           270,
           "Faculty of Population Health Sciences"
          ],
          [
           85,
           "Faculty of Mathematical and Physical Sciences"
          ],
          [
           880,
           "Faculty of Social and Historical Sciences"
          ],
          [
           115,
           "Faculty of Population Health Sciences"
          ],
          [
           1000,
           "Faculty of Engineering Sciences"
          ],
          [
           310,
           "Faculty of Population Health Sciences"
          ],
          [
           45,
           "Faculty of Population Health Sciences"
          ],
          [
           1970,
           "Faculty of Medical Sciences"
          ],
          [
           0,
           "Faculty of the Built Environment"
          ],
          [
           0,
           "Faculty of the Built Environment"
          ],
          [
           0,
           "Faculty of Population Health Sciences"
          ],
          [
           0,
           "Faculty of Population Health Sciences"
          ],
          [
           0,
           "Faculty of Arts and Humanities"
          ],
          [
           0,
           "Faculty of the Built Environment"
          ],
          [
           0,
           "Faculty of the Built Environment"
          ],
          [
           45,
           "UCL Institute of Education"
          ],
          [
           11020,
           "Faculty of Social and Historical Sciences"
          ],
          [
           0,
           "Faculty of the Built Environment"
          ],
          [
           45,
           "UCL Institute of Education"
          ]
         ],
         "domain": {
          "x": [
           0,
           1
          ],
          "y": [
           0,
           1
          ]
         },
         "hovertemplate": "<b>%{label}</b><br>Total: %{value:.2f}<br>",
         "ids": [
          "Faculty of Engineering Sciences/Security and Crime Science",
          "Faculty of Engineering Sciences/Science, Technology, Engineering and Public Policy",
          "Faculty of Mathematical and Physical Sciences/Science and Technology Studies",
          "Faculty of Arts and Humanities/School of European Languages, Culture and Society",
          "Faculty of Social and Historical Sciences/Political Science",
          "Faculty of Mathematical and Physical Sciences/Physics and Astronomy",
          "Faculty of Arts and Humanities/Philosophy",
          "Faculty of Engineering Sciences/Medical Physics and Biomedical Engineering",
          "Faculty of Mathematical and Physical Sciences/Space and Climate Physics",
          "Faculty of the Built Environment/The Bartlett School of Environment, Energy and Resources",
          "Faculty of the Built Environment/The Bartlett School of Architecture",
          "Faculty of the Built Environment/The Bartlett Development Planning Unit",
          "Faculty of the Built Environment/The Bartlett Centre for Advanced Spatial Analysis",
          "Faculty of Mathematical and Physical Sciences/Statistical Science",
          "Faculty of Arts and Humanities/Slade School of Fine Art",
          "Faculty of Brain Sciences/UCL Queen Square Institute of Neurology",
          "Faculty of Engineering Sciences/UCL School of Management",
          "Faculty of the Built Environment/UCL Urban Laboratory",
          "Faculty of Brain Sciences/UK Dementia Research Institute HQ",
          "Faculty of Arts and Humanities",
          "Faculty of Brain Sciences",
          "Faculty of Engineering Sciences",
          "Faculty of Laws",
          "Faculty of Mathematical and Physical Sciences",
          "Faculty of Medical Sciences",
          "Faculty of Population Health Sciences",
          "Faculty of Social and Historical Sciences/Anthropology",
          "Faculty of Engineering Sciences/Biochemical Engineering",
          "Faculty of Medical Sciences/Cancer Institute",
          "Faculty of Engineering Sciences/Chemical Engineering",
          "Faculty of Mathematical and Physical Sciences/Chemistry",
          "Faculty of Engineering Sciences/Civil, Environmental and Geomatic Engineering",
          "Faculty of Engineering Sciences/Computer Science",
          "Faculty of Medical Sciences/Division of Infection and Immunity",
          "Faculty of Medical Sciences/Division of Medicine",
          "Faculty of Brain Sciences/Division of Psychiatry",
          "Faculty of Brain Sciences/Division of Psychology and Language Sciences",
          "Faculty of Brain Sciences/Ear Institute",
          "Faculty of Mathematical and Physical Sciences/Earth Sciences",
          "Faculty of Medical Sciences/Division of Surgery and Interventional Science",
          "Faculty of Medical Sciences/Eastman Dental Institute",
          "Faculty of Social and Historical Sciences/Economics",
          "Faculty of Engineering Sciences/Electronic and Electrical Engineering",
          "Faculty of Arts and Humanities/English Language and Literature",
          "Faculty of Laws/Faculty of Laws",
          "Faculty of Social and Historical Sciences/Geography",
          "Faculty of Population Health Sciences/Global Business School for Health",
          "Faculty of Arts and Humanities/Greek and Latin",
          "Faculty of Mathematical and Physical Sciences/Mathematics",
          "Faculty of Social and Historical Sciences/Institute of the Americas",
          "Faculty of Brain Sciences/Institute of Prion Diseases",
          "Faculty of Brain Sciences/Institute of Ophthalmology",
          "Faculty of Population Health Sciences/Institute of Health Informatics",
          "Faculty of Arts and Humanities/Hebrew and Jewish Studies",
          "Faculty of Social and Historical Sciences/History",
          "Faculty of Social and Historical Sciences/History of Art",
          "Faculty of Arts and Humanities/Information Studies",
          "Faculty of Population Health Sciences/Institute for Global Health",
          "Faculty of Mathematical and Physical Sciences/Institute for Risk and Disaster Reduction",
          "Faculty of Social and Historical Sciences/Institute of Archaeology",
          "Faculty of Population Health Sciences/Institute of Cardiovascular Science",
          "Faculty of Engineering Sciences/Mechanical Engineering",
          "Faculty of Population Health Sciences/Institute of Epidemiology and Health Care",
          "Faculty of Population Health Sciences/Institute of Clinical Trials and Methodology",
          "Faculty of Medical Sciences/UCL Medical School",
          "Faculty of the Built Environment/UCL Institute for Innovation and Public Purpose",
          "Faculty of the Built Environment/UCL Institute for Global Prosperity",
          "Faculty of Population Health Sciences/UCL Great Ormond Street Institute of Child Health",
          "Faculty of Population Health Sciences/UCL Elizabeth Garrett Anderson Institute for Women's Health",
          "Faculty of Arts and Humanities/UCL Arts and Sciences",
          "Faculty of the Built Environment/The Bartlett School of Sustainable Construction",
          "Faculty of the Built Environment/The Bartlett School of Planning",
          "UCL Institute of Education/UCL Institute of Education",
          "Faculty of Social and Historical Sciences",
          "Faculty of the Built Environment",
          "UCL Institute of Education"
         ],
         "labels": [
          "Security and Crime Science",
          "Science, Technology, Engineering and Public Policy",
          "Science and Technology Studies",
          "School of European Languages, Culture and Society",
          "Political Science",
          "Physics and Astronomy",
          "Philosophy",
          "Medical Physics and Biomedical Engineering",
          "Space and Climate Physics",
          "The Bartlett School of Environment, Energy and Resources",
          "The Bartlett School of Architecture",
          "The Bartlett Development Planning Unit",
          "The Bartlett Centre for Advanced Spatial Analysis",
          "Statistical Science",
          "Slade School of Fine Art",
          "UCL Queen Square Institute of Neurology",
          "UCL School of Management",
          "UCL Urban Laboratory",
          "UK Dementia Research Institute HQ",
          "Faculty of Arts and Humanities",
          "Faculty of Brain Sciences",
          "Faculty of Engineering Sciences",
          "Faculty of Laws",
          "Faculty of Mathematical and Physical Sciences",
          "Faculty of Medical Sciences",
          "Faculty of Population Health Sciences",
          "Anthropology",
          "Biochemical Engineering",
          "Cancer Institute",
          "Chemical Engineering",
          "Chemistry",
          "Civil, Environmental and Geomatic Engineering",
          "Computer Science",
          "Division of Infection and Immunity",
          "Division of Medicine",
          "Division of Psychiatry",
          "Division of Psychology and Language Sciences",
          "Ear Institute",
          "Earth Sciences",
          "Division of Surgery and Interventional Science",
          "Eastman Dental Institute",
          "Economics",
          "Electronic and Electrical Engineering",
          "English Language and Literature",
          "Faculty of Laws",
          "Geography",
          "Global Business School for Health",
          "Greek and Latin",
          "Mathematics",
          "Institute of the Americas",
          "Institute of Prion Diseases",
          "Institute of Ophthalmology",
          "Institute of Health Informatics",
          "Hebrew and Jewish Studies",
          "History",
          "History of Art",
          "Information Studies",
          "Institute for Global Health",
          "Institute for Risk and Disaster Reduction",
          "Institute of Archaeology",
          "Institute of Cardiovascular Science",
          "Mechanical Engineering",
          "Institute of Epidemiology and Health Care",
          "Institute of Clinical Trials and Methodology",
          "UCL Medical School",
          "UCL Institute for Innovation and Public Purpose",
          "UCL Institute for Global Prosperity",
          "UCL Great Ormond Street Institute of Child Health",
          "UCL Elizabeth Garrett Anderson Institute for Women's Health",
          "UCL Arts and Sciences",
          "The Bartlett School of Sustainable Construction",
          "The Bartlett School of Planning",
          "UCL Institute of Education",
          "Faculty of Social and Historical Sciences",
          "Faculty of the Built Environment",
          "UCL Institute of Education"
         ],
         "marker": {
          "colors": [
           "#1f77b4",
           "#1f77b4",
           "#ff7f0e",
           "#2ca02c",
           "#d62728",
           "#ff7f0e",
           "#2ca02c",
           "#1f77b4",
           "#ff7f0e",
           "#9467bd",
           "#9467bd",
           "#9467bd",
           "#9467bd",
           "#ff7f0e",
           "#2ca02c",
           "#8c564b",
           "#1f77b4",
           "#9467bd",
           "#8c564b",
           "#2ca02c",
           "#8c564b",
           "#1f77b4",
           "#e377c2",
           "#ff7f0e",
           "#7f7f7f",
           "#bcbd22",
           "#d62728",
           "#1f77b4",
           "#7f7f7f",
           "#1f77b4",
           "#ff7f0e",
           "#1f77b4",
           "#1f77b4",
           "#7f7f7f",
           "#7f7f7f",
           "#8c564b",
           "#8c564b",
           "#8c564b",
           "#ff7f0e",
           "#7f7f7f",
           "#7f7f7f",
           "#d62728",
           "#1f77b4",
           "#2ca02c",
           "#e377c2",
           "#d62728",
           "#bcbd22",
           "#2ca02c",
           "#ff7f0e",
           "#d62728",
           "#8c564b",
           "#8c564b",
           "#bcbd22",
           "#2ca02c",
           "#d62728",
           "#d62728",
           "#2ca02c",
           "#bcbd22",
           "#ff7f0e",
           "#d62728",
           "#bcbd22",
           "#1f77b4",
           "#bcbd22",
           "#bcbd22",
           "#7f7f7f",
           "#9467bd",
           "#9467bd",
           "#bcbd22",
           "#bcbd22",
           "#2ca02c",
           "#9467bd",
           "#9467bd",
           "#17becf",
           "#d62728",
           "#9467bd",
           "#17becf"
          ]
         },
         "name": "",
         "parents": [
          "Faculty of Engineering Sciences",
          "Faculty of Engineering Sciences",
          "Faculty of Mathematical and Physical Sciences",
          "Faculty of Arts and Humanities",
          "Faculty of Social and Historical Sciences",
          "Faculty of Mathematical and Physical Sciences",
          "Faculty of Arts and Humanities",
          "Faculty of Engineering Sciences",
          "Faculty of Mathematical and Physical Sciences",
          "Faculty of the Built Environment",
          "Faculty of the Built Environment",
          "Faculty of the Built Environment",
          "Faculty of the Built Environment",
          "Faculty of Mathematical and Physical Sciences",
          "Faculty of Arts and Humanities",
          "Faculty of Brain Sciences",
          "Faculty of Engineering Sciences",
          "Faculty of the Built Environment",
          "Faculty of Brain Sciences",
          "",
          "",
          "",
          "",
          "",
          "",
          "",
          "Faculty of Social and Historical Sciences",
          "Faculty of Engineering Sciences",
          "Faculty of Medical Sciences",
          "Faculty of Engineering Sciences",
          "Faculty of Mathematical and Physical Sciences",
          "Faculty of Engineering Sciences",
          "Faculty of Engineering Sciences",
          "Faculty of Medical Sciences",
          "Faculty of Medical Sciences",
          "Faculty of Brain Sciences",
          "Faculty of Brain Sciences",
          "Faculty of Brain Sciences",
          "Faculty of Mathematical and Physical Sciences",
          "Faculty of Medical Sciences",
          "Faculty of Medical Sciences",
          "Faculty of Social and Historical Sciences",
          "Faculty of Engineering Sciences",
          "Faculty of Arts and Humanities",
          "Faculty of Laws",
          "Faculty of Social and Historical Sciences",
          "Faculty of Population Health Sciences",
          "Faculty of Arts and Humanities",
          "Faculty of Mathematical and Physical Sciences",
          "Faculty of Social and Historical Sciences",
          "Faculty of Brain Sciences",
          "Faculty of Brain Sciences",
          "Faculty of Population Health Sciences",
          "Faculty of Arts and Humanities",
          "Faculty of Social and Historical Sciences",
          "Faculty of Social and Historical Sciences",
          "Faculty of Arts and Humanities",
          "Faculty of Population Health Sciences",
          "Faculty of Mathematical and Physical Sciences",
          "Faculty of Social and Historical Sciences",
          "Faculty of Population Health Sciences",
          "Faculty of Engineering Sciences",
          "Faculty of Population Health Sciences",
          "Faculty of Population Health Sciences",
          "Faculty of Medical Sciences",
          "Faculty of the Built Environment",
          "Faculty of the Built Environment",
          "Faculty of Population Health Sciences",
          "Faculty of Population Health Sciences",
          "Faculty of Arts and Humanities",
          "Faculty of the Built Environment",
          "Faculty of the Built Environment",
          "UCL Institute of Education",
          "",
          "",
          ""
         ],
         "textfont": {
          "size": 12
         },
         "texttemplate": "%{label}<br>%{customdata[0]:,.0f}",
         "type": "treemap",
         "values": [
          285,
          90,
          210,
          750,
          2190,
          1135,
          305,
          405,
          220,
          0,
          0,
          0,
          0,
          670,
          255,
          425,
          2120,
          0,
          0,
          2260,
          3505,
          7025,
          0,
          4635,
          3745,
          965,
          1330,
          295,
          215,
          630,
          895,
          0,
          1375,
          120,
          580,
          235,
          2485,
          100,
          275,
          570,
          290,
          2760,
          825,
          420,
          0,
          1370,
          0,
          195,
          1145,
          400,
          15,
          245,
          225,
          50,
          1590,
          500,
          285,
          270,
          85,
          880,
          115,
          1000,
          310,
          45,
          1970,
          0,
          0,
          0,
          0,
          0,
          0,
          0,
          45,
          11020,
          0,
          45
         ]
        }
       ],
       "layout": {
        "legend": {
         "tracegroupgap": 0
        },
        "margin": {
         "t": 60
        },
        "template": {
         "data": {
          "bar": [
           {
            "error_x": {
             "color": "#2a3f5f"
            },
            "error_y": {
             "color": "#2a3f5f"
            },
            "marker": {
             "line": {
              "color": "#E5ECF6",
              "width": 0.5
             },
             "pattern": {
              "fillmode": "overlay",
              "size": 10,
              "solidity": 0.2
             }
            },
            "type": "bar"
           }
          ],
          "barpolar": [
           {
            "marker": {
             "line": {
              "color": "#E5ECF6",
              "width": 0.5
             },
             "pattern": {
              "fillmode": "overlay",
              "size": 10,
              "solidity": 0.2
             }
            },
            "type": "barpolar"
           }
          ],
          "carpet": [
           {
            "aaxis": {
             "endlinecolor": "#2a3f5f",
             "gridcolor": "white",
             "linecolor": "white",
             "minorgridcolor": "white",
             "startlinecolor": "#2a3f5f"
            },
            "baxis": {
             "endlinecolor": "#2a3f5f",
             "gridcolor": "white",
             "linecolor": "white",
             "minorgridcolor": "white",
             "startlinecolor": "#2a3f5f"
            },
            "type": "carpet"
           }
          ],
          "choropleth": [
           {
            "colorbar": {
             "outlinewidth": 0,
             "ticks": ""
            },
            "type": "choropleth"
           }
          ],
          "contour": [
           {
            "colorbar": {
             "outlinewidth": 0,
             "ticks": ""
            },
            "colorscale": [
             [
              0,
              "#0d0887"
             ],
             [
              0.1111111111111111,
              "#46039f"
             ],
             [
              0.2222222222222222,
              "#7201a8"
             ],
             [
              0.3333333333333333,
              "#9c179e"
             ],
             [
              0.4444444444444444,
              "#bd3786"
             ],
             [
              0.5555555555555556,
              "#d8576b"
             ],
             [
              0.6666666666666666,
              "#ed7953"
             ],
             [
              0.7777777777777778,
              "#fb9f3a"
             ],
             [
              0.8888888888888888,
              "#fdca26"
             ],
             [
              1,
              "#f0f921"
             ]
            ],
            "type": "contour"
           }
          ],
          "contourcarpet": [
           {
            "colorbar": {
             "outlinewidth": 0,
             "ticks": ""
            },
            "type": "contourcarpet"
           }
          ],
          "heatmap": [
           {
            "colorbar": {
             "outlinewidth": 0,
             "ticks": ""
            },
            "colorscale": [
             [
              0,
              "#0d0887"
             ],
             [
              0.1111111111111111,
              "#46039f"
             ],
             [
              0.2222222222222222,
              "#7201a8"
             ],
             [
              0.3333333333333333,
              "#9c179e"
             ],
             [
              0.4444444444444444,
              "#bd3786"
             ],
             [
              0.5555555555555556,
              "#d8576b"
             ],
             [
              0.6666666666666666,
              "#ed7953"
             ],
             [
              0.7777777777777778,
              "#fb9f3a"
             ],
             [
              0.8888888888888888,
              "#fdca26"
             ],
             [
              1,
              "#f0f921"
             ]
            ],
            "type": "heatmap"
           }
          ],
          "heatmapgl": [
           {
            "colorbar": {
             "outlinewidth": 0,
             "ticks": ""
            },
            "colorscale": [
             [
              0,
              "#0d0887"
             ],
             [
              0.1111111111111111,
              "#46039f"
             ],
             [
              0.2222222222222222,
              "#7201a8"
             ],
             [
              0.3333333333333333,
              "#9c179e"
             ],
             [
              0.4444444444444444,
              "#bd3786"
             ],
             [
              0.5555555555555556,
              "#d8576b"
             ],
             [
              0.6666666666666666,
              "#ed7953"
             ],
             [
              0.7777777777777778,
              "#fb9f3a"
             ],
             [
              0.8888888888888888,
              "#fdca26"
             ],
             [
              1,
              "#f0f921"
             ]
            ],
            "type": "heatmapgl"
           }
          ],
          "histogram": [
           {
            "marker": {
             "pattern": {
              "fillmode": "overlay",
              "size": 10,
              "solidity": 0.2
             }
            },
            "type": "histogram"
           }
          ],
          "histogram2d": [
           {
            "colorbar": {
             "outlinewidth": 0,
             "ticks": ""
            },
            "colorscale": [
             [
              0,
              "#0d0887"
             ],
             [
              0.1111111111111111,
              "#46039f"
             ],
             [
              0.2222222222222222,
              "#7201a8"
             ],
             [
              0.3333333333333333,
              "#9c179e"
             ],
             [
              0.4444444444444444,
              "#bd3786"
             ],
             [
              0.5555555555555556,
              "#d8576b"
             ],
             [
              0.6666666666666666,
              "#ed7953"
             ],
             [
              0.7777777777777778,
              "#fb9f3a"
             ],
             [
              0.8888888888888888,
              "#fdca26"
             ],
             [
              1,
              "#f0f921"
             ]
            ],
            "type": "histogram2d"
           }
          ],
          "histogram2dcontour": [
           {
            "colorbar": {
             "outlinewidth": 0,
             "ticks": ""
            },
            "colorscale": [
             [
              0,
              "#0d0887"
             ],
             [
              0.1111111111111111,
              "#46039f"
             ],
             [
              0.2222222222222222,
              "#7201a8"
             ],
             [
              0.3333333333333333,
              "#9c179e"
             ],
             [
              0.4444444444444444,
              "#bd3786"
             ],
             [
              0.5555555555555556,
              "#d8576b"
             ],
             [
              0.6666666666666666,
              "#ed7953"
             ],
             [
              0.7777777777777778,
              "#fb9f3a"
             ],
             [
              0.8888888888888888,
              "#fdca26"
             ],
             [
              1,
              "#f0f921"
             ]
            ],
            "type": "histogram2dcontour"
           }
          ],
          "mesh3d": [
           {
            "colorbar": {
             "outlinewidth": 0,
             "ticks": ""
            },
            "type": "mesh3d"
           }
          ],
          "parcoords": [
           {
            "line": {
             "colorbar": {
              "outlinewidth": 0,
              "ticks": ""
             }
            },
            "type": "parcoords"
           }
          ],
          "pie": [
           {
            "automargin": true,
            "type": "pie"
           }
          ],
          "scatter": [
           {
            "fillpattern": {
             "fillmode": "overlay",
             "size": 10,
             "solidity": 0.2
            },
            "type": "scatter"
           }
          ],
          "scatter3d": [
           {
            "line": {
             "colorbar": {
              "outlinewidth": 0,
              "ticks": ""
             }
            },
            "marker": {
             "colorbar": {
              "outlinewidth": 0,
              "ticks": ""
             }
            },
            "type": "scatter3d"
           }
          ],
          "scattercarpet": [
           {
            "marker": {
             "colorbar": {
              "outlinewidth": 0,
              "ticks": ""
             }
            },
            "type": "scattercarpet"
           }
          ],
          "scattergeo": [
           {
            "marker": {
             "colorbar": {
              "outlinewidth": 0,
              "ticks": ""
             }
            },
            "type": "scattergeo"
           }
          ],
          "scattergl": [
           {
            "marker": {
             "colorbar": {
              "outlinewidth": 0,
              "ticks": ""
             }
            },
            "type": "scattergl"
           }
          ],
          "scattermapbox": [
           {
            "marker": {
             "colorbar": {
              "outlinewidth": 0,
              "ticks": ""
             }
            },
            "type": "scattermapbox"
           }
          ],
          "scatterpolar": [
           {
            "marker": {
             "colorbar": {
              "outlinewidth": 0,
              "ticks": ""
             }
            },
            "type": "scatterpolar"
           }
          ],
          "scatterpolargl": [
           {
            "marker": {
             "colorbar": {
              "outlinewidth": 0,
              "ticks": ""
             }
            },
            "type": "scatterpolargl"
           }
          ],
          "scatterternary": [
           {
            "marker": {
             "colorbar": {
              "outlinewidth": 0,
              "ticks": ""
             }
            },
            "type": "scatterternary"
           }
          ],
          "surface": [
           {
            "colorbar": {
             "outlinewidth": 0,
             "ticks": ""
            },
            "colorscale": [
             [
              0,
              "#0d0887"
             ],
             [
              0.1111111111111111,
              "#46039f"
             ],
             [
              0.2222222222222222,
              "#7201a8"
             ],
             [
              0.3333333333333333,
              "#9c179e"
             ],
             [
              0.4444444444444444,
              "#bd3786"
             ],
             [
              0.5555555555555556,
              "#d8576b"
             ],
             [
              0.6666666666666666,
              "#ed7953"
             ],
             [
              0.7777777777777778,
              "#fb9f3a"
             ],
             [
              0.8888888888888888,
              "#fdca26"
             ],
             [
              1,
              "#f0f921"
             ]
            ],
            "type": "surface"
           }
          ],
          "table": [
           {
            "cells": {
             "fill": {
              "color": "#EBF0F8"
             },
             "line": {
              "color": "white"
             }
            },
            "header": {
             "fill": {
              "color": "#C8D4E3"
             },
             "line": {
              "color": "white"
             }
            },
            "type": "table"
           }
          ]
         },
         "layout": {
          "annotationdefaults": {
           "arrowcolor": "#2a3f5f",
           "arrowhead": 0,
           "arrowwidth": 1
          },
          "autotypenumbers": "strict",
          "coloraxis": {
           "colorbar": {
            "outlinewidth": 0,
            "ticks": ""
           }
          },
          "colorscale": {
           "diverging": [
            [
             0,
             "#8e0152"
            ],
            [
             0.1,
             "#c51b7d"
            ],
            [
             0.2,
             "#de77ae"
            ],
            [
             0.3,
             "#f1b6da"
            ],
            [
             0.4,
             "#fde0ef"
            ],
            [
             0.5,
             "#f7f7f7"
            ],
            [
             0.6,
             "#e6f5d0"
            ],
            [
             0.7,
             "#b8e186"
            ],
            [
             0.8,
             "#7fbc41"
            ],
            [
             0.9,
             "#4d9221"
            ],
            [
             1,
             "#276419"
            ]
           ],
           "sequential": [
            [
             0,
             "#0d0887"
            ],
            [
             0.1111111111111111,
             "#46039f"
            ],
            [
             0.2222222222222222,
             "#7201a8"
            ],
            [
             0.3333333333333333,
             "#9c179e"
            ],
            [
             0.4444444444444444,
             "#bd3786"
            ],
            [
             0.5555555555555556,
             "#d8576b"
            ],
            [
             0.6666666666666666,
             "#ed7953"
            ],
            [
             0.7777777777777778,
             "#fb9f3a"
            ],
            [
             0.8888888888888888,
             "#fdca26"
            ],
            [
             1,
             "#f0f921"
            ]
           ],
           "sequentialminus": [
            [
             0,
             "#0d0887"
            ],
            [
             0.1111111111111111,
             "#46039f"
            ],
            [
             0.2222222222222222,
             "#7201a8"
            ],
            [
             0.3333333333333333,
             "#9c179e"
            ],
            [
             0.4444444444444444,
             "#bd3786"
            ],
            [
             0.5555555555555556,
             "#d8576b"
            ],
            [
             0.6666666666666666,
             "#ed7953"
            ],
            [
             0.7777777777777778,
             "#fb9f3a"
            ],
            [
             0.8888888888888888,
             "#fdca26"
            ],
            [
             1,
             "#f0f921"
            ]
           ]
          },
          "colorway": [
           "#636efa",
           "#EF553B",
           "#00cc96",
           "#ab63fa",
           "#FFA15A",
           "#19d3f3",
           "#FF6692",
           "#B6E880",
           "#FF97FF",
           "#FECB52"
          ],
          "font": {
           "color": "#2a3f5f"
          },
          "geo": {
           "bgcolor": "white",
           "lakecolor": "white",
           "landcolor": "#E5ECF6",
           "showlakes": true,
           "showland": true,
           "subunitcolor": "white"
          },
          "hoverlabel": {
           "align": "left"
          },
          "hovermode": "closest",
          "mapbox": {
           "style": "light"
          },
          "paper_bgcolor": "white",
          "plot_bgcolor": "#E5ECF6",
          "polar": {
           "angularaxis": {
            "gridcolor": "white",
            "linecolor": "white",
            "ticks": ""
           },
           "bgcolor": "#E5ECF6",
           "radialaxis": {
            "gridcolor": "white",
            "linecolor": "white",
            "ticks": ""
           }
          },
          "scene": {
           "xaxis": {
            "backgroundcolor": "#E5ECF6",
            "gridcolor": "white",
            "gridwidth": 2,
            "linecolor": "white",
            "showbackground": true,
            "ticks": "",
            "zerolinecolor": "white"
           },
           "yaxis": {
            "backgroundcolor": "#E5ECF6",
            "gridcolor": "white",
            "gridwidth": 2,
            "linecolor": "white",
            "showbackground": true,
            "ticks": "",
            "zerolinecolor": "white"
           },
           "zaxis": {
            "backgroundcolor": "#E5ECF6",
            "gridcolor": "white",
            "gridwidth": 2,
            "linecolor": "white",
            "showbackground": true,
            "ticks": "",
            "zerolinecolor": "white"
           }
          },
          "shapedefaults": {
           "line": {
            "color": "#2a3f5f"
           }
          },
          "ternary": {
           "aaxis": {
            "gridcolor": "white",
            "linecolor": "white",
            "ticks": ""
           },
           "baxis": {
            "gridcolor": "white",
            "linecolor": "white",
            "ticks": ""
           },
           "bgcolor": "#E5ECF6",
           "caxis": {
            "gridcolor": "white",
            "linecolor": "white",
            "ticks": ""
           }
          },
          "title": {
           "x": 0.05
          },
          "xaxis": {
           "automargin": true,
           "gridcolor": "white",
           "linecolor": "white",
           "ticks": "",
           "title": {
            "standoff": 15
           },
           "zerolinecolor": "white",
           "zerolinewidth": 2
          },
          "yaxis": {
           "automargin": true,
           "gridcolor": "white",
           "linecolor": "white",
           "ticks": "",
           "title": {
            "standoff": 15
           },
           "zerolinecolor": "white",
           "zerolinewidth": 2
          }
         }
        },
        "treemapcolorway": [
         "#1f77b4",
         "#ff7f0e",
         "#2ca02c",
         "#d62728",
         "#9467bd",
         "#8c564b",
         "#e377c2",
         "#7f7f7f",
         "#bcbd22",
         "#17becf"
        ]
       }
      },
      "text/html": [
       "<div>                            <div id=\"dede4e7c-6663-4865-9bf9-4d33acaf0d78\" class=\"plotly-graph-div\" style=\"height:525px; width:100%;\"></div>            <script type=\"text/javascript\">                require([\"plotly\"], function(Plotly) {                    window.PLOTLYENV=window.PLOTLYENV || {};                                    if (document.getElementById(\"dede4e7c-6663-4865-9bf9-4d33acaf0d78\")) {                    Plotly.newPlot(                        \"dede4e7c-6663-4865-9bf9-4d33acaf0d78\",                        [{\"branchvalues\":\"total\",\"customdata\":[[285.0,\"Faculty of Engineering Sciences\"],[90.0,\"Faculty of Engineering Sciences\"],[210.0,\"Faculty of Mathematical and Physical Sciences\"],[750.0,\"Faculty of Arts and Humanities\"],[2190.0,\"Faculty of Social and Historical Sciences\"],[1135.0,\"Faculty of Mathematical and Physical Sciences\"],[305.0,\"Faculty of Arts and Humanities\"],[405.0,\"Faculty of Engineering Sciences\"],[220.0,\"Faculty of Mathematical and Physical Sciences\"],[0.0,\"Faculty of the Built Environment\"],[0.0,\"Faculty of the Built Environment\"],[0.0,\"Faculty of the Built Environment\"],[0.0,\"Faculty of the Built Environment\"],[670.0,\"Faculty of Mathematical and Physical Sciences\"],[255.0,\"Faculty of Arts and Humanities\"],[425.0,\"Faculty of Brain Sciences\"],[2120.0,\"Faculty of Engineering Sciences\"],[0.0,\"Faculty of the Built Environment\"],[0.0,\"Faculty of Brain Sciences\"],[2260.0,\"Faculty of Arts and Humanities\"],[3505.0,\"Faculty of Brain Sciences\"],[7025.0,\"Faculty of Engineering Sciences\"],[0.0,\"Faculty of Laws\"],[4635.0,\"Faculty of Mathematical and Physical Sciences\"],[3745.0,\"Faculty of Medical Sciences\"],[965.0,\"Faculty of Population Health Sciences\"],[1330.0,\"Faculty of Social and Historical Sciences\"],[295.0,\"Faculty of Engineering Sciences\"],[215.0,\"Faculty of Medical Sciences\"],[630.0,\"Faculty of Engineering Sciences\"],[895.0,\"Faculty of Mathematical and Physical Sciences\"],[0.0,\"Faculty of Engineering Sciences\"],[1375.0,\"Faculty of Engineering Sciences\"],[120.0,\"Faculty of Medical Sciences\"],[580.0,\"Faculty of Medical Sciences\"],[235.0,\"Faculty of Brain Sciences\"],[2485.0,\"Faculty of Brain Sciences\"],[100.0,\"Faculty of Brain Sciences\"],[275.0,\"Faculty of Mathematical and Physical Sciences\"],[570.0,\"Faculty of Medical Sciences\"],[290.0,\"Faculty of Medical Sciences\"],[2760.0,\"Faculty of Social and Historical Sciences\"],[825.0,\"Faculty of Engineering Sciences\"],[420.0,\"Faculty of Arts and Humanities\"],[0.0,\"Faculty of Laws\"],[1370.0,\"Faculty of Social and Historical Sciences\"],[0.0,\"Faculty of Population Health Sciences\"],[195.0,\"Faculty of Arts and Humanities\"],[1145.0,\"Faculty of Mathematical and Physical Sciences\"],[400.0,\"Faculty of Social and Historical Sciences\"],[15.0,\"Faculty of Brain Sciences\"],[245.0,\"Faculty of Brain Sciences\"],[225.0,\"Faculty of Population Health Sciences\"],[50.0,\"Faculty of Arts and Humanities\"],[1590.0,\"Faculty of Social and Historical Sciences\"],[500.0,\"Faculty of Social and Historical Sciences\"],[285.0,\"Faculty of Arts and Humanities\"],[270.0,\"Faculty of Population Health Sciences\"],[85.0,\"Faculty of Mathematical and Physical Sciences\"],[880.0,\"Faculty of Social and Historical Sciences\"],[115.0,\"Faculty of Population Health Sciences\"],[1000.0,\"Faculty of Engineering Sciences\"],[310.0,\"Faculty of Population Health Sciences\"],[45.0,\"Faculty of Population Health Sciences\"],[1970.0,\"Faculty of Medical Sciences\"],[0.0,\"Faculty of the Built Environment\"],[0.0,\"Faculty of the Built Environment\"],[0.0,\"Faculty of Population Health Sciences\"],[0.0,\"Faculty of Population Health Sciences\"],[0.0,\"Faculty of Arts and Humanities\"],[0.0,\"Faculty of the Built Environment\"],[0.0,\"Faculty of the Built Environment\"],[45.0,\"UCL Institute of Education\"],[11020.0,\"Faculty of Social and Historical Sciences\"],[0.0,\"Faculty of the Built Environment\"],[45.0,\"UCL Institute of Education\"]],\"domain\":{\"x\":[0.0,1.0],\"y\":[0.0,1.0]},\"hovertemplate\":\"<b>%{label}</b><br>Total: %{value:.2f}<br>\",\"ids\":[\"Faculty of Engineering Sciences/Security and Crime Science\",\"Faculty of Engineering Sciences/Science, Technology, Engineering and Public Policy\",\"Faculty of Mathematical and Physical Sciences/Science and Technology Studies\",\"Faculty of Arts and Humanities/School of European Languages, Culture and Society\",\"Faculty of Social and Historical Sciences/Political Science\",\"Faculty of Mathematical and Physical Sciences/Physics and Astronomy\",\"Faculty of Arts and Humanities/Philosophy\",\"Faculty of Engineering Sciences/Medical Physics and Biomedical Engineering\",\"Faculty of Mathematical and Physical Sciences/Space and Climate Physics\",\"Faculty of the Built Environment/The Bartlett School of Environment, Energy and Resources\",\"Faculty of the Built Environment/The Bartlett School of Architecture\",\"Faculty of the Built Environment/The Bartlett Development Planning Unit\",\"Faculty of the Built Environment/The Bartlett Centre for Advanced Spatial Analysis\",\"Faculty of Mathematical and Physical Sciences/Statistical Science\",\"Faculty of Arts and Humanities/Slade School of Fine Art\",\"Faculty of Brain Sciences/UCL Queen Square Institute of Neurology\",\"Faculty of Engineering Sciences/UCL School of Management\",\"Faculty of the Built Environment/UCL Urban Laboratory\",\"Faculty of Brain Sciences/UK Dementia Research Institute HQ\",\"Faculty of Arts and Humanities\",\"Faculty of Brain Sciences\",\"Faculty of Engineering Sciences\",\"Faculty of Laws\",\"Faculty of Mathematical and Physical Sciences\",\"Faculty of Medical Sciences\",\"Faculty of Population Health Sciences\",\"Faculty of Social and Historical Sciences/Anthropology\",\"Faculty of Engineering Sciences/Biochemical Engineering\",\"Faculty of Medical Sciences/Cancer Institute\",\"Faculty of Engineering Sciences/Chemical Engineering\",\"Faculty of Mathematical and Physical Sciences/Chemistry\",\"Faculty of Engineering Sciences/Civil, Environmental and Geomatic Engineering\",\"Faculty of Engineering Sciences/Computer Science\",\"Faculty of Medical Sciences/Division of Infection and Immunity\",\"Faculty of Medical Sciences/Division of Medicine\",\"Faculty of Brain Sciences/Division of Psychiatry\",\"Faculty of Brain Sciences/Division of Psychology and Language Sciences\",\"Faculty of Brain Sciences/Ear Institute\",\"Faculty of Mathematical and Physical Sciences/Earth Sciences\",\"Faculty of Medical Sciences/Division of Surgery and Interventional Science\",\"Faculty of Medical Sciences/Eastman Dental Institute\",\"Faculty of Social and Historical Sciences/Economics\",\"Faculty of Engineering Sciences/Electronic and Electrical Engineering\",\"Faculty of Arts and Humanities/English Language and Literature\",\"Faculty of Laws/Faculty of Laws\",\"Faculty of Social and Historical Sciences/Geography\",\"Faculty of Population Health Sciences/Global Business School for Health\",\"Faculty of Arts and Humanities/Greek and Latin\",\"Faculty of Mathematical and Physical Sciences/Mathematics\",\"Faculty of Social and Historical Sciences/Institute of the Americas\",\"Faculty of Brain Sciences/Institute of Prion Diseases\",\"Faculty of Brain Sciences/Institute of Ophthalmology\",\"Faculty of Population Health Sciences/Institute of Health Informatics\",\"Faculty of Arts and Humanities/Hebrew and Jewish Studies\",\"Faculty of Social and Historical Sciences/History\",\"Faculty of Social and Historical Sciences/History of Art\",\"Faculty of Arts and Humanities/Information Studies\",\"Faculty of Population Health Sciences/Institute for Global Health\",\"Faculty of Mathematical and Physical Sciences/Institute for Risk and Disaster Reduction\",\"Faculty of Social and Historical Sciences/Institute of Archaeology\",\"Faculty of Population Health Sciences/Institute of Cardiovascular Science\",\"Faculty of Engineering Sciences/Mechanical Engineering\",\"Faculty of Population Health Sciences/Institute of Epidemiology and Health Care\",\"Faculty of Population Health Sciences/Institute of Clinical Trials and Methodology\",\"Faculty of Medical Sciences/UCL Medical School\",\"Faculty of the Built Environment/UCL Institute for Innovation and Public Purpose\",\"Faculty of the Built Environment/UCL Institute for Global Prosperity\",\"Faculty of Population Health Sciences/UCL Great Ormond Street Institute of Child Health\",\"Faculty of Population Health Sciences/UCL Elizabeth Garrett Anderson Institute for Women's Health\",\"Faculty of Arts and Humanities/UCL Arts and Sciences\",\"Faculty of the Built Environment/The Bartlett School of Sustainable Construction\",\"Faculty of the Built Environment/The Bartlett School of Planning\",\"UCL Institute of Education/UCL Institute of Education\",\"Faculty of Social and Historical Sciences\",\"Faculty of the Built Environment\",\"UCL Institute of Education\"],\"labels\":[\"Security and Crime Science\",\"Science, Technology, Engineering and Public Policy\",\"Science and Technology Studies\",\"School of European Languages, Culture and Society\",\"Political Science\",\"Physics and Astronomy\",\"Philosophy\",\"Medical Physics and Biomedical Engineering\",\"Space and Climate Physics\",\"The Bartlett School of Environment, Energy and Resources\",\"The Bartlett School of Architecture\",\"The Bartlett Development Planning Unit\",\"The Bartlett Centre for Advanced Spatial Analysis\",\"Statistical Science\",\"Slade School of Fine Art\",\"UCL Queen Square Institute of Neurology\",\"UCL School of Management\",\"UCL Urban Laboratory\",\"UK Dementia Research Institute HQ\",\"Faculty of Arts and Humanities\",\"Faculty of Brain Sciences\",\"Faculty of Engineering Sciences\",\"Faculty of Laws\",\"Faculty of Mathematical and Physical Sciences\",\"Faculty of Medical Sciences\",\"Faculty of Population Health Sciences\",\"Anthropology\",\"Biochemical Engineering\",\"Cancer Institute\",\"Chemical Engineering\",\"Chemistry\",\"Civil, Environmental and Geomatic Engineering\",\"Computer Science\",\"Division of Infection and Immunity\",\"Division of Medicine\",\"Division of Psychiatry\",\"Division of Psychology and Language Sciences\",\"Ear Institute\",\"Earth Sciences\",\"Division of Surgery and Interventional Science\",\"Eastman Dental Institute\",\"Economics\",\"Electronic and Electrical Engineering\",\"English Language and Literature\",\"Faculty of Laws\",\"Geography\",\"Global Business School for Health\",\"Greek and Latin\",\"Mathematics\",\"Institute of the Americas\",\"Institute of Prion Diseases\",\"Institute of Ophthalmology\",\"Institute of Health Informatics\",\"Hebrew and Jewish Studies\",\"History\",\"History of Art\",\"Information Studies\",\"Institute for Global Health\",\"Institute for Risk and Disaster Reduction\",\"Institute of Archaeology\",\"Institute of Cardiovascular Science\",\"Mechanical Engineering\",\"Institute of Epidemiology and Health Care\",\"Institute of Clinical Trials and Methodology\",\"UCL Medical School\",\"UCL Institute for Innovation and Public Purpose\",\"UCL Institute for Global Prosperity\",\"UCL Great Ormond Street Institute of Child Health\",\"UCL Elizabeth Garrett Anderson Institute for Women's Health\",\"UCL Arts and Sciences\",\"The Bartlett School of Sustainable Construction\",\"The Bartlett School of Planning\",\"UCL Institute of Education\",\"Faculty of Social and Historical Sciences\",\"Faculty of the Built Environment\",\"UCL Institute of Education\"],\"marker\":{\"colors\":[\"#1f77b4\",\"#1f77b4\",\"#ff7f0e\",\"#2ca02c\",\"#d62728\",\"#ff7f0e\",\"#2ca02c\",\"#1f77b4\",\"#ff7f0e\",\"#9467bd\",\"#9467bd\",\"#9467bd\",\"#9467bd\",\"#ff7f0e\",\"#2ca02c\",\"#8c564b\",\"#1f77b4\",\"#9467bd\",\"#8c564b\",\"#2ca02c\",\"#8c564b\",\"#1f77b4\",\"#e377c2\",\"#ff7f0e\",\"#7f7f7f\",\"#bcbd22\",\"#d62728\",\"#1f77b4\",\"#7f7f7f\",\"#1f77b4\",\"#ff7f0e\",\"#1f77b4\",\"#1f77b4\",\"#7f7f7f\",\"#7f7f7f\",\"#8c564b\",\"#8c564b\",\"#8c564b\",\"#ff7f0e\",\"#7f7f7f\",\"#7f7f7f\",\"#d62728\",\"#1f77b4\",\"#2ca02c\",\"#e377c2\",\"#d62728\",\"#bcbd22\",\"#2ca02c\",\"#ff7f0e\",\"#d62728\",\"#8c564b\",\"#8c564b\",\"#bcbd22\",\"#2ca02c\",\"#d62728\",\"#d62728\",\"#2ca02c\",\"#bcbd22\",\"#ff7f0e\",\"#d62728\",\"#bcbd22\",\"#1f77b4\",\"#bcbd22\",\"#bcbd22\",\"#7f7f7f\",\"#9467bd\",\"#9467bd\",\"#bcbd22\",\"#bcbd22\",\"#2ca02c\",\"#9467bd\",\"#9467bd\",\"#17becf\",\"#d62728\",\"#9467bd\",\"#17becf\"]},\"name\":\"\",\"parents\":[\"Faculty of Engineering Sciences\",\"Faculty of Engineering Sciences\",\"Faculty of Mathematical and Physical Sciences\",\"Faculty of Arts and Humanities\",\"Faculty of Social and Historical Sciences\",\"Faculty of Mathematical and Physical Sciences\",\"Faculty of Arts and Humanities\",\"Faculty of Engineering Sciences\",\"Faculty of Mathematical and Physical Sciences\",\"Faculty of the Built Environment\",\"Faculty of the Built Environment\",\"Faculty of the Built Environment\",\"Faculty of the Built Environment\",\"Faculty of Mathematical and Physical Sciences\",\"Faculty of Arts and Humanities\",\"Faculty of Brain Sciences\",\"Faculty of Engineering Sciences\",\"Faculty of the Built Environment\",\"Faculty of Brain Sciences\",\"\",\"\",\"\",\"\",\"\",\"\",\"\",\"Faculty of Social and Historical Sciences\",\"Faculty of Engineering Sciences\",\"Faculty of Medical Sciences\",\"Faculty of Engineering Sciences\",\"Faculty of Mathematical and Physical Sciences\",\"Faculty of Engineering Sciences\",\"Faculty of Engineering Sciences\",\"Faculty of Medical Sciences\",\"Faculty of Medical Sciences\",\"Faculty of Brain Sciences\",\"Faculty of Brain Sciences\",\"Faculty of Brain Sciences\",\"Faculty of Mathematical and Physical Sciences\",\"Faculty of Medical Sciences\",\"Faculty of Medical Sciences\",\"Faculty of Social and Historical Sciences\",\"Faculty of Engineering Sciences\",\"Faculty of Arts and Humanities\",\"Faculty of Laws\",\"Faculty of Social and Historical Sciences\",\"Faculty of Population Health Sciences\",\"Faculty of Arts and Humanities\",\"Faculty of Mathematical and Physical Sciences\",\"Faculty of Social and Historical Sciences\",\"Faculty of Brain Sciences\",\"Faculty of Brain Sciences\",\"Faculty of Population Health Sciences\",\"Faculty of Arts and Humanities\",\"Faculty of Social and Historical Sciences\",\"Faculty of Social and Historical Sciences\",\"Faculty of Arts and Humanities\",\"Faculty of Population Health Sciences\",\"Faculty of Mathematical and Physical Sciences\",\"Faculty of Social and Historical Sciences\",\"Faculty of Population Health Sciences\",\"Faculty of Engineering Sciences\",\"Faculty of Population Health Sciences\",\"Faculty of Population Health Sciences\",\"Faculty of Medical Sciences\",\"Faculty of the Built Environment\",\"Faculty of the Built Environment\",\"Faculty of Population Health Sciences\",\"Faculty of Population Health Sciences\",\"Faculty of Arts and Humanities\",\"Faculty of the Built Environment\",\"Faculty of the Built Environment\",\"UCL Institute of Education\",\"\",\"\",\"\"],\"values\":[285.0,90.0,210.0,750.0,2190.0,1135.0,305.0,405.0,220.0,0.0,0.0,0.0,0.0,670.0,255.0,425.0,2120.0,0.0,0.0,2260.0,3505.0,7025.0,0.0,4635.0,3745.0,965.0,1330.0,295.0,215.0,630.0,895.0,0.0,1375.0,120.0,580.0,235.0,2485.0,100.0,275.0,570.0,290.0,2760.0,825.0,420.0,0.0,1370.0,0.0,195.0,1145.0,400.0,15.0,245.0,225.0,50.0,1590.0,500.0,285.0,270.0,85.0,880.0,115.0,1000.0,310.0,45.0,1970.0,0.0,0.0,0.0,0.0,0.0,0.0,0.0,45.0,11020.0,0.0,45.0],\"type\":\"treemap\",\"textfont\":{\"size\":12},\"texttemplate\":\"%{label}<br>%{customdata[0]:,.0f}\"}],                        {\"template\":{\"data\":{\"histogram2dcontour\":[{\"type\":\"histogram2dcontour\",\"colorbar\":{\"outlinewidth\":0,\"ticks\":\"\"},\"colorscale\":[[0.0,\"#0d0887\"],[0.1111111111111111,\"#46039f\"],[0.2222222222222222,\"#7201a8\"],[0.3333333333333333,\"#9c179e\"],[0.4444444444444444,\"#bd3786\"],[0.5555555555555556,\"#d8576b\"],[0.6666666666666666,\"#ed7953\"],[0.7777777777777778,\"#fb9f3a\"],[0.8888888888888888,\"#fdca26\"],[1.0,\"#f0f921\"]]}],\"choropleth\":[{\"type\":\"choropleth\",\"colorbar\":{\"outlinewidth\":0,\"ticks\":\"\"}}],\"histogram2d\":[{\"type\":\"histogram2d\",\"colorbar\":{\"outlinewidth\":0,\"ticks\":\"\"},\"colorscale\":[[0.0,\"#0d0887\"],[0.1111111111111111,\"#46039f\"],[0.2222222222222222,\"#7201a8\"],[0.3333333333333333,\"#9c179e\"],[0.4444444444444444,\"#bd3786\"],[0.5555555555555556,\"#d8576b\"],[0.6666666666666666,\"#ed7953\"],[0.7777777777777778,\"#fb9f3a\"],[0.8888888888888888,\"#fdca26\"],[1.0,\"#f0f921\"]]}],\"heatmap\":[{\"type\":\"heatmap\",\"colorbar\":{\"outlinewidth\":0,\"ticks\":\"\"},\"colorscale\":[[0.0,\"#0d0887\"],[0.1111111111111111,\"#46039f\"],[0.2222222222222222,\"#7201a8\"],[0.3333333333333333,\"#9c179e\"],[0.4444444444444444,\"#bd3786\"],[0.5555555555555556,\"#d8576b\"],[0.6666666666666666,\"#ed7953\"],[0.7777777777777778,\"#fb9f3a\"],[0.8888888888888888,\"#fdca26\"],[1.0,\"#f0f921\"]]}],\"heatmapgl\":[{\"type\":\"heatmapgl\",\"colorbar\":{\"outlinewidth\":0,\"ticks\":\"\"},\"colorscale\":[[0.0,\"#0d0887\"],[0.1111111111111111,\"#46039f\"],[0.2222222222222222,\"#7201a8\"],[0.3333333333333333,\"#9c179e\"],[0.4444444444444444,\"#bd3786\"],[0.5555555555555556,\"#d8576b\"],[0.6666666666666666,\"#ed7953\"],[0.7777777777777778,\"#fb9f3a\"],[0.8888888888888888,\"#fdca26\"],[1.0,\"#f0f921\"]]}],\"contourcarpet\":[{\"type\":\"contourcarpet\",\"colorbar\":{\"outlinewidth\":0,\"ticks\":\"\"}}],\"contour\":[{\"type\":\"contour\",\"colorbar\":{\"outlinewidth\":0,\"ticks\":\"\"},\"colorscale\":[[0.0,\"#0d0887\"],[0.1111111111111111,\"#46039f\"],[0.2222222222222222,\"#7201a8\"],[0.3333333333333333,\"#9c179e\"],[0.4444444444444444,\"#bd3786\"],[0.5555555555555556,\"#d8576b\"],[0.6666666666666666,\"#ed7953\"],[0.7777777777777778,\"#fb9f3a\"],[0.8888888888888888,\"#fdca26\"],[1.0,\"#f0f921\"]]}],\"surface\":[{\"type\":\"surface\",\"colorbar\":{\"outlinewidth\":0,\"ticks\":\"\"},\"colorscale\":[[0.0,\"#0d0887\"],[0.1111111111111111,\"#46039f\"],[0.2222222222222222,\"#7201a8\"],[0.3333333333333333,\"#9c179e\"],[0.4444444444444444,\"#bd3786\"],[0.5555555555555556,\"#d8576b\"],[0.6666666666666666,\"#ed7953\"],[0.7777777777777778,\"#fb9f3a\"],[0.8888888888888888,\"#fdca26\"],[1.0,\"#f0f921\"]]}],\"mesh3d\":[{\"type\":\"mesh3d\",\"colorbar\":{\"outlinewidth\":0,\"ticks\":\"\"}}],\"scatter\":[{\"fillpattern\":{\"fillmode\":\"overlay\",\"size\":10,\"solidity\":0.2},\"type\":\"scatter\"}],\"parcoords\":[{\"type\":\"parcoords\",\"line\":{\"colorbar\":{\"outlinewidth\":0,\"ticks\":\"\"}}}],\"scatterpolargl\":[{\"type\":\"scatterpolargl\",\"marker\":{\"colorbar\":{\"outlinewidth\":0,\"ticks\":\"\"}}}],\"bar\":[{\"error_x\":{\"color\":\"#2a3f5f\"},\"error_y\":{\"color\":\"#2a3f5f\"},\"marker\":{\"line\":{\"color\":\"#E5ECF6\",\"width\":0.5},\"pattern\":{\"fillmode\":\"overlay\",\"size\":10,\"solidity\":0.2}},\"type\":\"bar\"}],\"scattergeo\":[{\"type\":\"scattergeo\",\"marker\":{\"colorbar\":{\"outlinewidth\":0,\"ticks\":\"\"}}}],\"scatterpolar\":[{\"type\":\"scatterpolar\",\"marker\":{\"colorbar\":{\"outlinewidth\":0,\"ticks\":\"\"}}}],\"histogram\":[{\"marker\":{\"pattern\":{\"fillmode\":\"overlay\",\"size\":10,\"solidity\":0.2}},\"type\":\"histogram\"}],\"scattergl\":[{\"type\":\"scattergl\",\"marker\":{\"colorbar\":{\"outlinewidth\":0,\"ticks\":\"\"}}}],\"scatter3d\":[{\"type\":\"scatter3d\",\"line\":{\"colorbar\":{\"outlinewidth\":0,\"ticks\":\"\"}},\"marker\":{\"colorbar\":{\"outlinewidth\":0,\"ticks\":\"\"}}}],\"scattermapbox\":[{\"type\":\"scattermapbox\",\"marker\":{\"colorbar\":{\"outlinewidth\":0,\"ticks\":\"\"}}}],\"scatterternary\":[{\"type\":\"scatterternary\",\"marker\":{\"colorbar\":{\"outlinewidth\":0,\"ticks\":\"\"}}}],\"scattercarpet\":[{\"type\":\"scattercarpet\",\"marker\":{\"colorbar\":{\"outlinewidth\":0,\"ticks\":\"\"}}}],\"carpet\":[{\"aaxis\":{\"endlinecolor\":\"#2a3f5f\",\"gridcolor\":\"white\",\"linecolor\":\"white\",\"minorgridcolor\":\"white\",\"startlinecolor\":\"#2a3f5f\"},\"baxis\":{\"endlinecolor\":\"#2a3f5f\",\"gridcolor\":\"white\",\"linecolor\":\"white\",\"minorgridcolor\":\"white\",\"startlinecolor\":\"#2a3f5f\"},\"type\":\"carpet\"}],\"table\":[{\"cells\":{\"fill\":{\"color\":\"#EBF0F8\"},\"line\":{\"color\":\"white\"}},\"header\":{\"fill\":{\"color\":\"#C8D4E3\"},\"line\":{\"color\":\"white\"}},\"type\":\"table\"}],\"barpolar\":[{\"marker\":{\"line\":{\"color\":\"#E5ECF6\",\"width\":0.5},\"pattern\":{\"fillmode\":\"overlay\",\"size\":10,\"solidity\":0.2}},\"type\":\"barpolar\"}],\"pie\":[{\"automargin\":true,\"type\":\"pie\"}]},\"layout\":{\"autotypenumbers\":\"strict\",\"colorway\":[\"#636efa\",\"#EF553B\",\"#00cc96\",\"#ab63fa\",\"#FFA15A\",\"#19d3f3\",\"#FF6692\",\"#B6E880\",\"#FF97FF\",\"#FECB52\"],\"font\":{\"color\":\"#2a3f5f\"},\"hovermode\":\"closest\",\"hoverlabel\":{\"align\":\"left\"},\"paper_bgcolor\":\"white\",\"plot_bgcolor\":\"#E5ECF6\",\"polar\":{\"bgcolor\":\"#E5ECF6\",\"angularaxis\":{\"gridcolor\":\"white\",\"linecolor\":\"white\",\"ticks\":\"\"},\"radialaxis\":{\"gridcolor\":\"white\",\"linecolor\":\"white\",\"ticks\":\"\"}},\"ternary\":{\"bgcolor\":\"#E5ECF6\",\"aaxis\":{\"gridcolor\":\"white\",\"linecolor\":\"white\",\"ticks\":\"\"},\"baxis\":{\"gridcolor\":\"white\",\"linecolor\":\"white\",\"ticks\":\"\"},\"caxis\":{\"gridcolor\":\"white\",\"linecolor\":\"white\",\"ticks\":\"\"}},\"coloraxis\":{\"colorbar\":{\"outlinewidth\":0,\"ticks\":\"\"}},\"colorscale\":{\"sequential\":[[0.0,\"#0d0887\"],[0.1111111111111111,\"#46039f\"],[0.2222222222222222,\"#7201a8\"],[0.3333333333333333,\"#9c179e\"],[0.4444444444444444,\"#bd3786\"],[0.5555555555555556,\"#d8576b\"],[0.6666666666666666,\"#ed7953\"],[0.7777777777777778,\"#fb9f3a\"],[0.8888888888888888,\"#fdca26\"],[1.0,\"#f0f921\"]],\"sequentialminus\":[[0.0,\"#0d0887\"],[0.1111111111111111,\"#46039f\"],[0.2222222222222222,\"#7201a8\"],[0.3333333333333333,\"#9c179e\"],[0.4444444444444444,\"#bd3786\"],[0.5555555555555556,\"#d8576b\"],[0.6666666666666666,\"#ed7953\"],[0.7777777777777778,\"#fb9f3a\"],[0.8888888888888888,\"#fdca26\"],[1.0,\"#f0f921\"]],\"diverging\":[[0,\"#8e0152\"],[0.1,\"#c51b7d\"],[0.2,\"#de77ae\"],[0.3,\"#f1b6da\"],[0.4,\"#fde0ef\"],[0.5,\"#f7f7f7\"],[0.6,\"#e6f5d0\"],[0.7,\"#b8e186\"],[0.8,\"#7fbc41\"],[0.9,\"#4d9221\"],[1,\"#276419\"]]},\"xaxis\":{\"gridcolor\":\"white\",\"linecolor\":\"white\",\"ticks\":\"\",\"title\":{\"standoff\":15},\"zerolinecolor\":\"white\",\"automargin\":true,\"zerolinewidth\":2},\"yaxis\":{\"gridcolor\":\"white\",\"linecolor\":\"white\",\"ticks\":\"\",\"title\":{\"standoff\":15},\"zerolinecolor\":\"white\",\"automargin\":true,\"zerolinewidth\":2},\"scene\":{\"xaxis\":{\"backgroundcolor\":\"#E5ECF6\",\"gridcolor\":\"white\",\"linecolor\":\"white\",\"showbackground\":true,\"ticks\":\"\",\"zerolinecolor\":\"white\",\"gridwidth\":2},\"yaxis\":{\"backgroundcolor\":\"#E5ECF6\",\"gridcolor\":\"white\",\"linecolor\":\"white\",\"showbackground\":true,\"ticks\":\"\",\"zerolinecolor\":\"white\",\"gridwidth\":2},\"zaxis\":{\"backgroundcolor\":\"#E5ECF6\",\"gridcolor\":\"white\",\"linecolor\":\"white\",\"showbackground\":true,\"ticks\":\"\",\"zerolinecolor\":\"white\",\"gridwidth\":2}},\"shapedefaults\":{\"line\":{\"color\":\"#2a3f5f\"}},\"annotationdefaults\":{\"arrowcolor\":\"#2a3f5f\",\"arrowhead\":0,\"arrowwidth\":1},\"geo\":{\"bgcolor\":\"white\",\"landcolor\":\"#E5ECF6\",\"subunitcolor\":\"white\",\"showland\":true,\"showlakes\":true,\"lakecolor\":\"white\"},\"title\":{\"x\":0.05},\"mapbox\":{\"style\":\"light\"}}},\"legend\":{\"tracegroupgap\":0},\"margin\":{\"t\":60},\"treemapcolorway\":[\"#1f77b4\",\"#ff7f0e\",\"#2ca02c\",\"#d62728\",\"#9467bd\",\"#8c564b\",\"#e377c2\",\"#7f7f7f\",\"#bcbd22\",\"#17becf\"]},                        {\"responsive\": true}                    ).then(function(){\n",
       "                            \n",
       "var gd = document.getElementById('dede4e7c-6663-4865-9bf9-4d33acaf0d78');\n",
       "var x = new MutationObserver(function (mutations, observer) {{\n",
       "        var display = window.getComputedStyle(gd).display;\n",
       "        if (!display || display === 'none') {{\n",
       "            console.log([gd, 'removed!']);\n",
       "            Plotly.purge(gd);\n",
       "            observer.disconnect();\n",
       "        }}\n",
       "}});\n",
       "\n",
       "// Listen for the removal of the full notebook cells\n",
       "var notebookContainer = gd.closest('#notebook-container');\n",
       "if (notebookContainer) {{\n",
       "    x.observe(notebookContainer, {childList: true});\n",
       "}}\n",
       "\n",
       "// Listen for the clearing of the current output cell\n",
       "var outputEl = gd.closest('.output');\n",
       "if (outputEl) {{\n",
       "    x.observe(outputEl, {childList: true});\n",
       "}}\n",
       "\n",
       "                        })                };                });            </script>        </div>"
      ]
     },
     "metadata": {},
     "output_type": "display_data"
    }
   ],
   "source": [
    "import squarify\n",
    "import matplotlib.pyplot as plt\n",
    "import plotly.express as px\n",
    "colors = ['#1f77b4', '#ff7f0e', '#2ca02c', '#d62728', '#9467bd', '#8c564b', '#e377c2', '#7f7f7f', '#bcbd22', '#17becf']\n",
    "fig = px.treemap(merged, \n",
    "                 path=['Faculty', 'Department'], \n",
    "                 values='Total',\n",
    "                 color='Faculty',\n",
    "                 custom_data=['Total'],\n",
    "                 color_discrete_sequence=colors)\n",
    "fig.update_traces(\n",
    "    textfont_size=12,\n",
    "    texttemplate='%{label}<br>%{customdata[0]:,.0f}',\n",
    "    hovertemplate='<b>%{label}</b><br>Total: %{value:.2f}<br>',\n",
    "    )\n",
    "\n",
    "fig.show()"
   ]
  },
  {
   "cell_type": "code",
   "execution_count": 24,
   "id": "baa044a7",
   "metadata": {},
   "outputs": [
    {
     "data": {
      "application/vnd.plotly.v1+json": {
       "config": {
        "plotlyServerURL": "https://plot.ly"
       },
       "data": [
        {
         "branchvalues": "total",
         "customdata": [
          [
           285,
           "Faculty of Engineering Sciences"
          ],
          [
           90,
           "Faculty of Engineering Sciences"
          ],
          [
           210,
           "Faculty of Mathematical and Physical Sciences"
          ],
          [
           750,
           "Faculty of Arts and Humanities"
          ],
          [
           2190,
           "Faculty of Social and Historical Sciences"
          ],
          [
           1135,
           "Faculty of Mathematical and Physical Sciences"
          ],
          [
           305,
           "Faculty of Arts and Humanities"
          ],
          [
           405,
           "Faculty of Engineering Sciences"
          ],
          [
           220,
           "Faculty of Mathematical and Physical Sciences"
          ],
          [
           0,
           "Faculty of the Built Environment"
          ],
          [
           0,
           "Faculty of the Built Environment"
          ],
          [
           0,
           "Faculty of the Built Environment"
          ],
          [
           0,
           "Faculty of the Built Environment"
          ],
          [
           670,
           "Faculty of Mathematical and Physical Sciences"
          ],
          [
           255,
           "Faculty of Arts and Humanities"
          ],
          [
           425,
           "Faculty of Brain Sciences"
          ],
          [
           2120,
           "Faculty of Engineering Sciences"
          ],
          [
           0,
           "Faculty of the Built Environment"
          ],
          [
           0,
           "Faculty of Brain Sciences"
          ],
          [
           2260,
           "Faculty of Arts and Humanities"
          ],
          [
           3505,
           "Faculty of Brain Sciences"
          ],
          [
           7025,
           "Faculty of Engineering Sciences"
          ],
          [
           0,
           "Faculty of Laws"
          ],
          [
           4635,
           "Faculty of Mathematical and Physical Sciences"
          ],
          [
           3745,
           "Faculty of Medical Sciences"
          ],
          [
           965,
           "Faculty of Population Health Sciences"
          ],
          [
           1330,
           "Faculty of Social and Historical Sciences"
          ],
          [
           295,
           "Faculty of Engineering Sciences"
          ],
          [
           215,
           "Faculty of Medical Sciences"
          ],
          [
           630,
           "Faculty of Engineering Sciences"
          ],
          [
           895,
           "Faculty of Mathematical and Physical Sciences"
          ],
          [
           0,
           "Faculty of Engineering Sciences"
          ],
          [
           1375,
           "Faculty of Engineering Sciences"
          ],
          [
           120,
           "Faculty of Medical Sciences"
          ],
          [
           580,
           "Faculty of Medical Sciences"
          ],
          [
           235,
           "Faculty of Brain Sciences"
          ],
          [
           2485,
           "Faculty of Brain Sciences"
          ],
          [
           100,
           "Faculty of Brain Sciences"
          ],
          [
           275,
           "Faculty of Mathematical and Physical Sciences"
          ],
          [
           570,
           "Faculty of Medical Sciences"
          ],
          [
           290,
           "Faculty of Medical Sciences"
          ],
          [
           2760,
           "Faculty of Social and Historical Sciences"
          ],
          [
           825,
           "Faculty of Engineering Sciences"
          ],
          [
           420,
           "Faculty of Arts and Humanities"
          ],
          [
           0,
           "Faculty of Laws"
          ],
          [
           1370,
           "Faculty of Social and Historical Sciences"
          ],
          [
           0,
           "Faculty of Population Health Sciences"
          ],
          [
           195,
           "Faculty of Arts and Humanities"
          ],
          [
           1145,
           "Faculty of Mathematical and Physical Sciences"
          ],
          [
           400,
           "Faculty of Social and Historical Sciences"
          ],
          [
           15,
           "Faculty of Brain Sciences"
          ],
          [
           245,
           "Faculty of Brain Sciences"
          ],
          [
           225,
           "Faculty of Population Health Sciences"
          ],
          [
           50,
           "Faculty of Arts and Humanities"
          ],
          [
           1590,
           "Faculty of Social and Historical Sciences"
          ],
          [
           500,
           "Faculty of Social and Historical Sciences"
          ],
          [
           285,
           "Faculty of Arts and Humanities"
          ],
          [
           270,
           "Faculty of Population Health Sciences"
          ],
          [
           85,
           "Faculty of Mathematical and Physical Sciences"
          ],
          [
           880,
           "Faculty of Social and Historical Sciences"
          ],
          [
           115,
           "Faculty of Population Health Sciences"
          ],
          [
           1000,
           "Faculty of Engineering Sciences"
          ],
          [
           310,
           "Faculty of Population Health Sciences"
          ],
          [
           45,
           "Faculty of Population Health Sciences"
          ],
          [
           1970,
           "Faculty of Medical Sciences"
          ],
          [
           0,
           "Faculty of the Built Environment"
          ],
          [
           0,
           "Faculty of the Built Environment"
          ],
          [
           0,
           "Faculty of Population Health Sciences"
          ],
          [
           0,
           "Faculty of Population Health Sciences"
          ],
          [
           0,
           "Faculty of Arts and Humanities"
          ],
          [
           0,
           "Faculty of the Built Environment"
          ],
          [
           0,
           "Faculty of the Built Environment"
          ],
          [
           45,
           "UCL Institute of Education"
          ],
          [
           11020,
           "Faculty of Social and Historical Sciences"
          ],
          [
           0,
           "Faculty of the Built Environment"
          ],
          [
           45,
           "UCL Institute of Education"
          ]
         ],
         "domain": {
          "x": [
           0,
           1
          ],
          "y": [
           0,
           1
          ]
         },
         "hovertemplate": "<b>%{label}</b><br>Total: %{value:.2f}<br>",
         "ids": [
          "Faculty of Engineering Sciences/Security and Crime Science",
          "Faculty of Engineering Sciences/Science, Technology, Engineering and Public Policy",
          "Faculty of Mathematical and Physical Sciences/Science and Technology Studies",
          "Faculty of Arts and Humanities/School of European Languages, Culture and Society",
          "Faculty of Social and Historical Sciences/Political Science",
          "Faculty of Mathematical and Physical Sciences/Physics and Astronomy",
          "Faculty of Arts and Humanities/Philosophy",
          "Faculty of Engineering Sciences/Medical Physics and Biomedical Engineering",
          "Faculty of Mathematical and Physical Sciences/Space and Climate Physics",
          "Faculty of the Built Environment/The Bartlett School of Environment, Energy and Resources",
          "Faculty of the Built Environment/The Bartlett School of Architecture",
          "Faculty of the Built Environment/The Bartlett Development Planning Unit",
          "Faculty of the Built Environment/The Bartlett Centre for Advanced Spatial Analysis",
          "Faculty of Mathematical and Physical Sciences/Statistical Science",
          "Faculty of Arts and Humanities/Slade School of Fine Art",
          "Faculty of Brain Sciences/UCL Queen Square Institute of Neurology",
          "Faculty of Engineering Sciences/UCL School of Management",
          "Faculty of the Built Environment/UCL Urban Laboratory",
          "Faculty of Brain Sciences/UK Dementia Research Institute HQ",
          "Faculty of Arts and Humanities",
          "Faculty of Brain Sciences",
          "Faculty of Engineering Sciences",
          "Faculty of Laws",
          "Faculty of Mathematical and Physical Sciences",
          "Faculty of Medical Sciences",
          "Faculty of Population Health Sciences",
          "Faculty of Social and Historical Sciences/Anthropology",
          "Faculty of Engineering Sciences/Biochemical Engineering",
          "Faculty of Medical Sciences/Cancer Institute",
          "Faculty of Engineering Sciences/Chemical Engineering",
          "Faculty of Mathematical and Physical Sciences/Chemistry",
          "Faculty of Engineering Sciences/Civil, Environmental and Geomatic Engineering",
          "Faculty of Engineering Sciences/Computer Science",
          "Faculty of Medical Sciences/Division of Infection and Immunity",
          "Faculty of Medical Sciences/Division of Medicine",
          "Faculty of Brain Sciences/Division of Psychiatry",
          "Faculty of Brain Sciences/Division of Psychology and Language Sciences",
          "Faculty of Brain Sciences/Ear Institute",
          "Faculty of Mathematical and Physical Sciences/Earth Sciences",
          "Faculty of Medical Sciences/Division of Surgery and Interventional Science",
          "Faculty of Medical Sciences/Eastman Dental Institute",
          "Faculty of Social and Historical Sciences/Economics",
          "Faculty of Engineering Sciences/Electronic and Electrical Engineering",
          "Faculty of Arts and Humanities/English Language and Literature",
          "Faculty of Laws/Faculty of Laws",
          "Faculty of Social and Historical Sciences/Geography",
          "Faculty of Population Health Sciences/Global Business School for Health",
          "Faculty of Arts and Humanities/Greek and Latin",
          "Faculty of Mathematical and Physical Sciences/Mathematics",
          "Faculty of Social and Historical Sciences/Institute of the Americas",
          "Faculty of Brain Sciences/Institute of Prion Diseases",
          "Faculty of Brain Sciences/Institute of Ophthalmology",
          "Faculty of Population Health Sciences/Institute of Health Informatics",
          "Faculty of Arts and Humanities/Hebrew and Jewish Studies",
          "Faculty of Social and Historical Sciences/History",
          "Faculty of Social and Historical Sciences/History of Art",
          "Faculty of Arts and Humanities/Information Studies",
          "Faculty of Population Health Sciences/Institute for Global Health",
          "Faculty of Mathematical and Physical Sciences/Institute for Risk and Disaster Reduction",
          "Faculty of Social and Historical Sciences/Institute of Archaeology",
          "Faculty of Population Health Sciences/Institute of Cardiovascular Science",
          "Faculty of Engineering Sciences/Mechanical Engineering",
          "Faculty of Population Health Sciences/Institute of Epidemiology and Health Care",
          "Faculty of Population Health Sciences/Institute of Clinical Trials and Methodology",
          "Faculty of Medical Sciences/UCL Medical School",
          "Faculty of the Built Environment/UCL Institute for Innovation and Public Purpose",
          "Faculty of the Built Environment/UCL Institute for Global Prosperity",
          "Faculty of Population Health Sciences/UCL Great Ormond Street Institute of Child Health",
          "Faculty of Population Health Sciences/UCL Elizabeth Garrett Anderson Institute for Women's Health",
          "Faculty of Arts and Humanities/UCL Arts and Sciences",
          "Faculty of the Built Environment/The Bartlett School of Sustainable Construction",
          "Faculty of the Built Environment/The Bartlett School of Planning",
          "UCL Institute of Education/UCL Institute of Education",
          "Faculty of Social and Historical Sciences",
          "Faculty of the Built Environment",
          "UCL Institute of Education"
         ],
         "labels": [
          "Security and Crime Science",
          "Science, Technology, Engineering and Public Policy",
          "Science and Technology Studies",
          "School of European Languages, Culture and Society",
          "Political Science",
          "Physics and Astronomy",
          "Philosophy",
          "Medical Physics and Biomedical Engineering",
          "Space and Climate Physics",
          "The Bartlett School of Environment, Energy and Resources",
          "The Bartlett School of Architecture",
          "The Bartlett Development Planning Unit",
          "The Bartlett Centre for Advanced Spatial Analysis",
          "Statistical Science",
          "Slade School of Fine Art",
          "UCL Queen Square Institute of Neurology",
          "UCL School of Management",
          "UCL Urban Laboratory",
          "UK Dementia Research Institute HQ",
          "Faculty of Arts and Humanities",
          "Faculty of Brain Sciences",
          "Faculty of Engineering Sciences",
          "Faculty of Laws",
          "Faculty of Mathematical and Physical Sciences",
          "Faculty of Medical Sciences",
          "Faculty of Population Health Sciences",
          "Anthropology",
          "Biochemical Engineering",
          "Cancer Institute",
          "Chemical Engineering",
          "Chemistry",
          "Civil, Environmental and Geomatic Engineering",
          "Computer Science",
          "Division of Infection and Immunity",
          "Division of Medicine",
          "Division of Psychiatry",
          "Division of Psychology and Language Sciences",
          "Ear Institute",
          "Earth Sciences",
          "Division of Surgery and Interventional Science",
          "Eastman Dental Institute",
          "Economics",
          "Electronic and Electrical Engineering",
          "English Language and Literature",
          "Faculty of Laws",
          "Geography",
          "Global Business School for Health",
          "Greek and Latin",
          "Mathematics",
          "Institute of the Americas",
          "Institute of Prion Diseases",
          "Institute of Ophthalmology",
          "Institute of Health Informatics",
          "Hebrew and Jewish Studies",
          "History",
          "History of Art",
          "Information Studies",
          "Institute for Global Health",
          "Institute for Risk and Disaster Reduction",
          "Institute of Archaeology",
          "Institute of Cardiovascular Science",
          "Mechanical Engineering",
          "Institute of Epidemiology and Health Care",
          "Institute of Clinical Trials and Methodology",
          "UCL Medical School",
          "UCL Institute for Innovation and Public Purpose",
          "UCL Institute for Global Prosperity",
          "UCL Great Ormond Street Institute of Child Health",
          "UCL Elizabeth Garrett Anderson Institute for Women's Health",
          "UCL Arts and Sciences",
          "The Bartlett School of Sustainable Construction",
          "The Bartlett School of Planning",
          "UCL Institute of Education",
          "Faculty of Social and Historical Sciences",
          "Faculty of the Built Environment",
          "UCL Institute of Education"
         ],
         "marker": {
          "colors": [
           "#1f77b4",
           "#1f77b4",
           "#ff7f0e",
           "#2ca02c",
           "#d62728",
           "#ff7f0e",
           "#2ca02c",
           "#1f77b4",
           "#ff7f0e",
           "#9467bd",
           "#9467bd",
           "#9467bd",
           "#9467bd",
           "#ff7f0e",
           "#2ca02c",
           "#8c564b",
           "#1f77b4",
           "#9467bd",
           "#8c564b",
           "#2ca02c",
           "#8c564b",
           "#1f77b4",
           "#e377c2",
           "#ff7f0e",
           "#7f7f7f",
           "#bcbd22",
           "#d62728",
           "#1f77b4",
           "#7f7f7f",
           "#1f77b4",
           "#ff7f0e",
           "#1f77b4",
           "#1f77b4",
           "#7f7f7f",
           "#7f7f7f",
           "#8c564b",
           "#8c564b",
           "#8c564b",
           "#ff7f0e",
           "#7f7f7f",
           "#7f7f7f",
           "#d62728",
           "#1f77b4",
           "#2ca02c",
           "#e377c2",
           "#d62728",
           "#bcbd22",
           "#2ca02c",
           "#ff7f0e",
           "#d62728",
           "#8c564b",
           "#8c564b",
           "#bcbd22",
           "#2ca02c",
           "#d62728",
           "#d62728",
           "#2ca02c",
           "#bcbd22",
           "#ff7f0e",
           "#d62728",
           "#bcbd22",
           "#1f77b4",
           "#bcbd22",
           "#bcbd22",
           "#7f7f7f",
           "#9467bd",
           "#9467bd",
           "#bcbd22",
           "#bcbd22",
           "#2ca02c",
           "#9467bd",
           "#9467bd",
           "#17becf",
           "#d62728",
           "#9467bd",
           "#17becf"
          ]
         },
         "name": "",
         "parents": [
          "Faculty of Engineering Sciences",
          "Faculty of Engineering Sciences",
          "Faculty of Mathematical and Physical Sciences",
          "Faculty of Arts and Humanities",
          "Faculty of Social and Historical Sciences",
          "Faculty of Mathematical and Physical Sciences",
          "Faculty of Arts and Humanities",
          "Faculty of Engineering Sciences",
          "Faculty of Mathematical and Physical Sciences",
          "Faculty of the Built Environment",
          "Faculty of the Built Environment",
          "Faculty of the Built Environment",
          "Faculty of the Built Environment",
          "Faculty of Mathematical and Physical Sciences",
          "Faculty of Arts and Humanities",
          "Faculty of Brain Sciences",
          "Faculty of Engineering Sciences",
          "Faculty of the Built Environment",
          "Faculty of Brain Sciences",
          "",
          "",
          "",
          "",
          "",
          "",
          "",
          "Faculty of Social and Historical Sciences",
          "Faculty of Engineering Sciences",
          "Faculty of Medical Sciences",
          "Faculty of Engineering Sciences",
          "Faculty of Mathematical and Physical Sciences",
          "Faculty of Engineering Sciences",
          "Faculty of Engineering Sciences",
          "Faculty of Medical Sciences",
          "Faculty of Medical Sciences",
          "Faculty of Brain Sciences",
          "Faculty of Brain Sciences",
          "Faculty of Brain Sciences",
          "Faculty of Mathematical and Physical Sciences",
          "Faculty of Medical Sciences",
          "Faculty of Medical Sciences",
          "Faculty of Social and Historical Sciences",
          "Faculty of Engineering Sciences",
          "Faculty of Arts and Humanities",
          "Faculty of Laws",
          "Faculty of Social and Historical Sciences",
          "Faculty of Population Health Sciences",
          "Faculty of Arts and Humanities",
          "Faculty of Mathematical and Physical Sciences",
          "Faculty of Social and Historical Sciences",
          "Faculty of Brain Sciences",
          "Faculty of Brain Sciences",
          "Faculty of Population Health Sciences",
          "Faculty of Arts and Humanities",
          "Faculty of Social and Historical Sciences",
          "Faculty of Social and Historical Sciences",
          "Faculty of Arts and Humanities",
          "Faculty of Population Health Sciences",
          "Faculty of Mathematical and Physical Sciences",
          "Faculty of Social and Historical Sciences",
          "Faculty of Population Health Sciences",
          "Faculty of Engineering Sciences",
          "Faculty of Population Health Sciences",
          "Faculty of Population Health Sciences",
          "Faculty of Medical Sciences",
          "Faculty of the Built Environment",
          "Faculty of the Built Environment",
          "Faculty of Population Health Sciences",
          "Faculty of Population Health Sciences",
          "Faculty of Arts and Humanities",
          "Faculty of the Built Environment",
          "Faculty of the Built Environment",
          "UCL Institute of Education",
          "",
          "",
          ""
         ],
         "textfont": {
          "size": 12
         },
         "texttemplate": "%{label}<br>%{customdata[0]:,.0f}",
         "tiling": {
          "packing": "dice-slice"
         },
         "type": "treemap",
         "values": [
          285,
          90,
          210,
          750,
          2190,
          1135,
          305,
          405,
          220,
          0,
          0,
          0,
          0,
          670,
          255,
          425,
          2120,
          0,
          0,
          2260,
          3505,
          7025,
          0,
          4635,
          3745,
          965,
          1330,
          295,
          215,
          630,
          895,
          0,
          1375,
          120,
          580,
          235,
          2485,
          100,
          275,
          570,
          290,
          2760,
          825,
          420,
          0,
          1370,
          0,
          195,
          1145,
          400,
          15,
          245,
          225,
          50,
          1590,
          500,
          285,
          270,
          85,
          880,
          115,
          1000,
          310,
          45,
          1970,
          0,
          0,
          0,
          0,
          0,
          0,
          0,
          45,
          11020,
          0,
          45
         ]
        }
       ],
       "layout": {
        "legend": {
         "tracegroupgap": 0
        },
        "margin": {
         "b": 50,
         "l": 50,
         "r": 50,
         "t": 50
        },
        "template": {
         "data": {
          "bar": [
           {
            "error_x": {
             "color": "#2a3f5f"
            },
            "error_y": {
             "color": "#2a3f5f"
            },
            "marker": {
             "line": {
              "color": "#E5ECF6",
              "width": 0.5
             },
             "pattern": {
              "fillmode": "overlay",
              "size": 10,
              "solidity": 0.2
             }
            },
            "type": "bar"
           }
          ],
          "barpolar": [
           {
            "marker": {
             "line": {
              "color": "#E5ECF6",
              "width": 0.5
             },
             "pattern": {
              "fillmode": "overlay",
              "size": 10,
              "solidity": 0.2
             }
            },
            "type": "barpolar"
           }
          ],
          "carpet": [
           {
            "aaxis": {
             "endlinecolor": "#2a3f5f",
             "gridcolor": "white",
             "linecolor": "white",
             "minorgridcolor": "white",
             "startlinecolor": "#2a3f5f"
            },
            "baxis": {
             "endlinecolor": "#2a3f5f",
             "gridcolor": "white",
             "linecolor": "white",
             "minorgridcolor": "white",
             "startlinecolor": "#2a3f5f"
            },
            "type": "carpet"
           }
          ],
          "choropleth": [
           {
            "colorbar": {
             "outlinewidth": 0,
             "ticks": ""
            },
            "type": "choropleth"
           }
          ],
          "contour": [
           {
            "colorbar": {
             "outlinewidth": 0,
             "ticks": ""
            },
            "colorscale": [
             [
              0,
              "#0d0887"
             ],
             [
              0.1111111111111111,
              "#46039f"
             ],
             [
              0.2222222222222222,
              "#7201a8"
             ],
             [
              0.3333333333333333,
              "#9c179e"
             ],
             [
              0.4444444444444444,
              "#bd3786"
             ],
             [
              0.5555555555555556,
              "#d8576b"
             ],
             [
              0.6666666666666666,
              "#ed7953"
             ],
             [
              0.7777777777777778,
              "#fb9f3a"
             ],
             [
              0.8888888888888888,
              "#fdca26"
             ],
             [
              1,
              "#f0f921"
             ]
            ],
            "type": "contour"
           }
          ],
          "contourcarpet": [
           {
            "colorbar": {
             "outlinewidth": 0,
             "ticks": ""
            },
            "type": "contourcarpet"
           }
          ],
          "heatmap": [
           {
            "colorbar": {
             "outlinewidth": 0,
             "ticks": ""
            },
            "colorscale": [
             [
              0,
              "#0d0887"
             ],
             [
              0.1111111111111111,
              "#46039f"
             ],
             [
              0.2222222222222222,
              "#7201a8"
             ],
             [
              0.3333333333333333,
              "#9c179e"
             ],
             [
              0.4444444444444444,
              "#bd3786"
             ],
             [
              0.5555555555555556,
              "#d8576b"
             ],
             [
              0.6666666666666666,
              "#ed7953"
             ],
             [
              0.7777777777777778,
              "#fb9f3a"
             ],
             [
              0.8888888888888888,
              "#fdca26"
             ],
             [
              1,
              "#f0f921"
             ]
            ],
            "type": "heatmap"
           }
          ],
          "heatmapgl": [
           {
            "colorbar": {
             "outlinewidth": 0,
             "ticks": ""
            },
            "colorscale": [
             [
              0,
              "#0d0887"
             ],
             [
              0.1111111111111111,
              "#46039f"
             ],
             [
              0.2222222222222222,
              "#7201a8"
             ],
             [
              0.3333333333333333,
              "#9c179e"
             ],
             [
              0.4444444444444444,
              "#bd3786"
             ],
             [
              0.5555555555555556,
              "#d8576b"
             ],
             [
              0.6666666666666666,
              "#ed7953"
             ],
             [
              0.7777777777777778,
              "#fb9f3a"
             ],
             [
              0.8888888888888888,
              "#fdca26"
             ],
             [
              1,
              "#f0f921"
             ]
            ],
            "type": "heatmapgl"
           }
          ],
          "histogram": [
           {
            "marker": {
             "pattern": {
              "fillmode": "overlay",
              "size": 10,
              "solidity": 0.2
             }
            },
            "type": "histogram"
           }
          ],
          "histogram2d": [
           {
            "colorbar": {
             "outlinewidth": 0,
             "ticks": ""
            },
            "colorscale": [
             [
              0,
              "#0d0887"
             ],
             [
              0.1111111111111111,
              "#46039f"
             ],
             [
              0.2222222222222222,
              "#7201a8"
             ],
             [
              0.3333333333333333,
              "#9c179e"
             ],
             [
              0.4444444444444444,
              "#bd3786"
             ],
             [
              0.5555555555555556,
              "#d8576b"
             ],
             [
              0.6666666666666666,
              "#ed7953"
             ],
             [
              0.7777777777777778,
              "#fb9f3a"
             ],
             [
              0.8888888888888888,
              "#fdca26"
             ],
             [
              1,
              "#f0f921"
             ]
            ],
            "type": "histogram2d"
           }
          ],
          "histogram2dcontour": [
           {
            "colorbar": {
             "outlinewidth": 0,
             "ticks": ""
            },
            "colorscale": [
             [
              0,
              "#0d0887"
             ],
             [
              0.1111111111111111,
              "#46039f"
             ],
             [
              0.2222222222222222,
              "#7201a8"
             ],
             [
              0.3333333333333333,
              "#9c179e"
             ],
             [
              0.4444444444444444,
              "#bd3786"
             ],
             [
              0.5555555555555556,
              "#d8576b"
             ],
             [
              0.6666666666666666,
              "#ed7953"
             ],
             [
              0.7777777777777778,
              "#fb9f3a"
             ],
             [
              0.8888888888888888,
              "#fdca26"
             ],
             [
              1,
              "#f0f921"
             ]
            ],
            "type": "histogram2dcontour"
           }
          ],
          "mesh3d": [
           {
            "colorbar": {
             "outlinewidth": 0,
             "ticks": ""
            },
            "type": "mesh3d"
           }
          ],
          "parcoords": [
           {
            "line": {
             "colorbar": {
              "outlinewidth": 0,
              "ticks": ""
             }
            },
            "type": "parcoords"
           }
          ],
          "pie": [
           {
            "automargin": true,
            "type": "pie"
           }
          ],
          "scatter": [
           {
            "fillpattern": {
             "fillmode": "overlay",
             "size": 10,
             "solidity": 0.2
            },
            "type": "scatter"
           }
          ],
          "scatter3d": [
           {
            "line": {
             "colorbar": {
              "outlinewidth": 0,
              "ticks": ""
             }
            },
            "marker": {
             "colorbar": {
              "outlinewidth": 0,
              "ticks": ""
             }
            },
            "type": "scatter3d"
           }
          ],
          "scattercarpet": [
           {
            "marker": {
             "colorbar": {
              "outlinewidth": 0,
              "ticks": ""
             }
            },
            "type": "scattercarpet"
           }
          ],
          "scattergeo": [
           {
            "marker": {
             "colorbar": {
              "outlinewidth": 0,
              "ticks": ""
             }
            },
            "type": "scattergeo"
           }
          ],
          "scattergl": [
           {
            "marker": {
             "colorbar": {
              "outlinewidth": 0,
              "ticks": ""
             }
            },
            "type": "scattergl"
           }
          ],
          "scattermapbox": [
           {
            "marker": {
             "colorbar": {
              "outlinewidth": 0,
              "ticks": ""
             }
            },
            "type": "scattermapbox"
           }
          ],
          "scatterpolar": [
           {
            "marker": {
             "colorbar": {
              "outlinewidth": 0,
              "ticks": ""
             }
            },
            "type": "scatterpolar"
           }
          ],
          "scatterpolargl": [
           {
            "marker": {
             "colorbar": {
              "outlinewidth": 0,
              "ticks": ""
             }
            },
            "type": "scatterpolargl"
           }
          ],
          "scatterternary": [
           {
            "marker": {
             "colorbar": {
              "outlinewidth": 0,
              "ticks": ""
             }
            },
            "type": "scatterternary"
           }
          ],
          "surface": [
           {
            "colorbar": {
             "outlinewidth": 0,
             "ticks": ""
            },
            "colorscale": [
             [
              0,
              "#0d0887"
             ],
             [
              0.1111111111111111,
              "#46039f"
             ],
             [
              0.2222222222222222,
              "#7201a8"
             ],
             [
              0.3333333333333333,
              "#9c179e"
             ],
             [
              0.4444444444444444,
              "#bd3786"
             ],
             [
              0.5555555555555556,
              "#d8576b"
             ],
             [
              0.6666666666666666,
              "#ed7953"
             ],
             [
              0.7777777777777778,
              "#fb9f3a"
             ],
             [
              0.8888888888888888,
              "#fdca26"
             ],
             [
              1,
              "#f0f921"
             ]
            ],
            "type": "surface"
           }
          ],
          "table": [
           {
            "cells": {
             "fill": {
              "color": "#EBF0F8"
             },
             "line": {
              "color": "white"
             }
            },
            "header": {
             "fill": {
              "color": "#C8D4E3"
             },
             "line": {
              "color": "white"
             }
            },
            "type": "table"
           }
          ]
         },
         "layout": {
          "annotationdefaults": {
           "arrowcolor": "#2a3f5f",
           "arrowhead": 0,
           "arrowwidth": 1
          },
          "autotypenumbers": "strict",
          "coloraxis": {
           "colorbar": {
            "outlinewidth": 0,
            "ticks": ""
           }
          },
          "colorscale": {
           "diverging": [
            [
             0,
             "#8e0152"
            ],
            [
             0.1,
             "#c51b7d"
            ],
            [
             0.2,
             "#de77ae"
            ],
            [
             0.3,
             "#f1b6da"
            ],
            [
             0.4,
             "#fde0ef"
            ],
            [
             0.5,
             "#f7f7f7"
            ],
            [
             0.6,
             "#e6f5d0"
            ],
            [
             0.7,
             "#b8e186"
            ],
            [
             0.8,
             "#7fbc41"
            ],
            [
             0.9,
             "#4d9221"
            ],
            [
             1,
             "#276419"
            ]
           ],
           "sequential": [
            [
             0,
             "#0d0887"
            ],
            [
             0.1111111111111111,
             "#46039f"
            ],
            [
             0.2222222222222222,
             "#7201a8"
            ],
            [
             0.3333333333333333,
             "#9c179e"
            ],
            [
             0.4444444444444444,
             "#bd3786"
            ],
            [
             0.5555555555555556,
             "#d8576b"
            ],
            [
             0.6666666666666666,
             "#ed7953"
            ],
            [
             0.7777777777777778,
             "#fb9f3a"
            ],
            [
             0.8888888888888888,
             "#fdca26"
            ],
            [
             1,
             "#f0f921"
            ]
           ],
           "sequentialminus": [
            [
             0,
             "#0d0887"
            ],
            [
             0.1111111111111111,
             "#46039f"
            ],
            [
             0.2222222222222222,
             "#7201a8"
            ],
            [
             0.3333333333333333,
             "#9c179e"
            ],
            [
             0.4444444444444444,
             "#bd3786"
            ],
            [
             0.5555555555555556,
             "#d8576b"
            ],
            [
             0.6666666666666666,
             "#ed7953"
            ],
            [
             0.7777777777777778,
             "#fb9f3a"
            ],
            [
             0.8888888888888888,
             "#fdca26"
            ],
            [
             1,
             "#f0f921"
            ]
           ]
          },
          "colorway": [
           "#636efa",
           "#EF553B",
           "#00cc96",
           "#ab63fa",
           "#FFA15A",
           "#19d3f3",
           "#FF6692",
           "#B6E880",
           "#FF97FF",
           "#FECB52"
          ],
          "font": {
           "color": "#2a3f5f"
          },
          "geo": {
           "bgcolor": "white",
           "lakecolor": "white",
           "landcolor": "#E5ECF6",
           "showlakes": true,
           "showland": true,
           "subunitcolor": "white"
          },
          "hoverlabel": {
           "align": "left"
          },
          "hovermode": "closest",
          "mapbox": {
           "style": "light"
          },
          "paper_bgcolor": "white",
          "plot_bgcolor": "#E5ECF6",
          "polar": {
           "angularaxis": {
            "gridcolor": "white",
            "linecolor": "white",
            "ticks": ""
           },
           "bgcolor": "#E5ECF6",
           "radialaxis": {
            "gridcolor": "white",
            "linecolor": "white",
            "ticks": ""
           }
          },
          "scene": {
           "xaxis": {
            "backgroundcolor": "#E5ECF6",
            "gridcolor": "white",
            "gridwidth": 2,
            "linecolor": "white",
            "showbackground": true,
            "ticks": "",
            "zerolinecolor": "white"
           },
           "yaxis": {
            "backgroundcolor": "#E5ECF6",
            "gridcolor": "white",
            "gridwidth": 2,
            "linecolor": "white",
            "showbackground": true,
            "ticks": "",
            "zerolinecolor": "white"
           },
           "zaxis": {
            "backgroundcolor": "#E5ECF6",
            "gridcolor": "white",
            "gridwidth": 2,
            "linecolor": "white",
            "showbackground": true,
            "ticks": "",
            "zerolinecolor": "white"
           }
          },
          "shapedefaults": {
           "line": {
            "color": "#2a3f5f"
           }
          },
          "ternary": {
           "aaxis": {
            "gridcolor": "white",
            "linecolor": "white",
            "ticks": ""
           },
           "baxis": {
            "gridcolor": "white",
            "linecolor": "white",
            "ticks": ""
           },
           "bgcolor": "#E5ECF6",
           "caxis": {
            "gridcolor": "white",
            "linecolor": "white",
            "ticks": ""
           }
          },
          "title": {
           "x": 0.05
          },
          "xaxis": {
           "automargin": true,
           "gridcolor": "white",
           "linecolor": "white",
           "ticks": "",
           "title": {
            "standoff": 15
           },
           "zerolinecolor": "white",
           "zerolinewidth": 2
          },
          "yaxis": {
           "automargin": true,
           "gridcolor": "white",
           "linecolor": "white",
           "ticks": "",
           "title": {
            "standoff": 15
           },
           "zerolinecolor": "white",
           "zerolinewidth": 2
          }
         }
        },
        "treemapcolorway": [
         "#1f77b4",
         "#ff7f0e",
         "#2ca02c",
         "#d62728",
         "#9467bd",
         "#8c564b",
         "#e377c2",
         "#7f7f7f",
         "#bcbd22",
         "#17becf"
        ]
       }
      },
      "text/html": [
       "<div>                            <div id=\"3f84ece2-6a87-42bf-bd95-87bf37670731\" class=\"plotly-graph-div\" style=\"height:525px; width:100%;\"></div>            <script type=\"text/javascript\">                require([\"plotly\"], function(Plotly) {                    window.PLOTLYENV=window.PLOTLYENV || {};                                    if (document.getElementById(\"3f84ece2-6a87-42bf-bd95-87bf37670731\")) {                    Plotly.newPlot(                        \"3f84ece2-6a87-42bf-bd95-87bf37670731\",                        [{\"branchvalues\":\"total\",\"customdata\":[[285.0,\"Faculty of Engineering Sciences\"],[90.0,\"Faculty of Engineering Sciences\"],[210.0,\"Faculty of Mathematical and Physical Sciences\"],[750.0,\"Faculty of Arts and Humanities\"],[2190.0,\"Faculty of Social and Historical Sciences\"],[1135.0,\"Faculty of Mathematical and Physical Sciences\"],[305.0,\"Faculty of Arts and Humanities\"],[405.0,\"Faculty of Engineering Sciences\"],[220.0,\"Faculty of Mathematical and Physical Sciences\"],[0.0,\"Faculty of the Built Environment\"],[0.0,\"Faculty of the Built Environment\"],[0.0,\"Faculty of the Built Environment\"],[0.0,\"Faculty of the Built Environment\"],[670.0,\"Faculty of Mathematical and Physical Sciences\"],[255.0,\"Faculty of Arts and Humanities\"],[425.0,\"Faculty of Brain Sciences\"],[2120.0,\"Faculty of Engineering Sciences\"],[0.0,\"Faculty of the Built Environment\"],[0.0,\"Faculty of Brain Sciences\"],[2260.0,\"Faculty of Arts and Humanities\"],[3505.0,\"Faculty of Brain Sciences\"],[7025.0,\"Faculty of Engineering Sciences\"],[0.0,\"Faculty of Laws\"],[4635.0,\"Faculty of Mathematical and Physical Sciences\"],[3745.0,\"Faculty of Medical Sciences\"],[965.0,\"Faculty of Population Health Sciences\"],[1330.0,\"Faculty of Social and Historical Sciences\"],[295.0,\"Faculty of Engineering Sciences\"],[215.0,\"Faculty of Medical Sciences\"],[630.0,\"Faculty of Engineering Sciences\"],[895.0,\"Faculty of Mathematical and Physical Sciences\"],[0.0,\"Faculty of Engineering Sciences\"],[1375.0,\"Faculty of Engineering Sciences\"],[120.0,\"Faculty of Medical Sciences\"],[580.0,\"Faculty of Medical Sciences\"],[235.0,\"Faculty of Brain Sciences\"],[2485.0,\"Faculty of Brain Sciences\"],[100.0,\"Faculty of Brain Sciences\"],[275.0,\"Faculty of Mathematical and Physical Sciences\"],[570.0,\"Faculty of Medical Sciences\"],[290.0,\"Faculty of Medical Sciences\"],[2760.0,\"Faculty of Social and Historical Sciences\"],[825.0,\"Faculty of Engineering Sciences\"],[420.0,\"Faculty of Arts and Humanities\"],[0.0,\"Faculty of Laws\"],[1370.0,\"Faculty of Social and Historical Sciences\"],[0.0,\"Faculty of Population Health Sciences\"],[195.0,\"Faculty of Arts and Humanities\"],[1145.0,\"Faculty of Mathematical and Physical Sciences\"],[400.0,\"Faculty of Social and Historical Sciences\"],[15.0,\"Faculty of Brain Sciences\"],[245.0,\"Faculty of Brain Sciences\"],[225.0,\"Faculty of Population Health Sciences\"],[50.0,\"Faculty of Arts and Humanities\"],[1590.0,\"Faculty of Social and Historical Sciences\"],[500.0,\"Faculty of Social and Historical Sciences\"],[285.0,\"Faculty of Arts and Humanities\"],[270.0,\"Faculty of Population Health Sciences\"],[85.0,\"Faculty of Mathematical and Physical Sciences\"],[880.0,\"Faculty of Social and Historical Sciences\"],[115.0,\"Faculty of Population Health Sciences\"],[1000.0,\"Faculty of Engineering Sciences\"],[310.0,\"Faculty of Population Health Sciences\"],[45.0,\"Faculty of Population Health Sciences\"],[1970.0,\"Faculty of Medical Sciences\"],[0.0,\"Faculty of the Built Environment\"],[0.0,\"Faculty of the Built Environment\"],[0.0,\"Faculty of Population Health Sciences\"],[0.0,\"Faculty of Population Health Sciences\"],[0.0,\"Faculty of Arts and Humanities\"],[0.0,\"Faculty of the Built Environment\"],[0.0,\"Faculty of the Built Environment\"],[45.0,\"UCL Institute of Education\"],[11020.0,\"Faculty of Social and Historical Sciences\"],[0.0,\"Faculty of the Built Environment\"],[45.0,\"UCL Institute of Education\"]],\"domain\":{\"x\":[0.0,1.0],\"y\":[0.0,1.0]},\"hovertemplate\":\"<b>%{label}</b><br>Total: %{value:.2f}<br>\",\"ids\":[\"Faculty of Engineering Sciences/Security and Crime Science\",\"Faculty of Engineering Sciences/Science, Technology, Engineering and Public Policy\",\"Faculty of Mathematical and Physical Sciences/Science and Technology Studies\",\"Faculty of Arts and Humanities/School of European Languages, Culture and Society\",\"Faculty of Social and Historical Sciences/Political Science\",\"Faculty of Mathematical and Physical Sciences/Physics and Astronomy\",\"Faculty of Arts and Humanities/Philosophy\",\"Faculty of Engineering Sciences/Medical Physics and Biomedical Engineering\",\"Faculty of Mathematical and Physical Sciences/Space and Climate Physics\",\"Faculty of the Built Environment/The Bartlett School of Environment, Energy and Resources\",\"Faculty of the Built Environment/The Bartlett School of Architecture\",\"Faculty of the Built Environment/The Bartlett Development Planning Unit\",\"Faculty of the Built Environment/The Bartlett Centre for Advanced Spatial Analysis\",\"Faculty of Mathematical and Physical Sciences/Statistical Science\",\"Faculty of Arts and Humanities/Slade School of Fine Art\",\"Faculty of Brain Sciences/UCL Queen Square Institute of Neurology\",\"Faculty of Engineering Sciences/UCL School of Management\",\"Faculty of the Built Environment/UCL Urban Laboratory\",\"Faculty of Brain Sciences/UK Dementia Research Institute HQ\",\"Faculty of Arts and Humanities\",\"Faculty of Brain Sciences\",\"Faculty of Engineering Sciences\",\"Faculty of Laws\",\"Faculty of Mathematical and Physical Sciences\",\"Faculty of Medical Sciences\",\"Faculty of Population Health Sciences\",\"Faculty of Social and Historical Sciences/Anthropology\",\"Faculty of Engineering Sciences/Biochemical Engineering\",\"Faculty of Medical Sciences/Cancer Institute\",\"Faculty of Engineering Sciences/Chemical Engineering\",\"Faculty of Mathematical and Physical Sciences/Chemistry\",\"Faculty of Engineering Sciences/Civil, Environmental and Geomatic Engineering\",\"Faculty of Engineering Sciences/Computer Science\",\"Faculty of Medical Sciences/Division of Infection and Immunity\",\"Faculty of Medical Sciences/Division of Medicine\",\"Faculty of Brain Sciences/Division of Psychiatry\",\"Faculty of Brain Sciences/Division of Psychology and Language Sciences\",\"Faculty of Brain Sciences/Ear Institute\",\"Faculty of Mathematical and Physical Sciences/Earth Sciences\",\"Faculty of Medical Sciences/Division of Surgery and Interventional Science\",\"Faculty of Medical Sciences/Eastman Dental Institute\",\"Faculty of Social and Historical Sciences/Economics\",\"Faculty of Engineering Sciences/Electronic and Electrical Engineering\",\"Faculty of Arts and Humanities/English Language and Literature\",\"Faculty of Laws/Faculty of Laws\",\"Faculty of Social and Historical Sciences/Geography\",\"Faculty of Population Health Sciences/Global Business School for Health\",\"Faculty of Arts and Humanities/Greek and Latin\",\"Faculty of Mathematical and Physical Sciences/Mathematics\",\"Faculty of Social and Historical Sciences/Institute of the Americas\",\"Faculty of Brain Sciences/Institute of Prion Diseases\",\"Faculty of Brain Sciences/Institute of Ophthalmology\",\"Faculty of Population Health Sciences/Institute of Health Informatics\",\"Faculty of Arts and Humanities/Hebrew and Jewish Studies\",\"Faculty of Social and Historical Sciences/History\",\"Faculty of Social and Historical Sciences/History of Art\",\"Faculty of Arts and Humanities/Information Studies\",\"Faculty of Population Health Sciences/Institute for Global Health\",\"Faculty of Mathematical and Physical Sciences/Institute for Risk and Disaster Reduction\",\"Faculty of Social and Historical Sciences/Institute of Archaeology\",\"Faculty of Population Health Sciences/Institute of Cardiovascular Science\",\"Faculty of Engineering Sciences/Mechanical Engineering\",\"Faculty of Population Health Sciences/Institute of Epidemiology and Health Care\",\"Faculty of Population Health Sciences/Institute of Clinical Trials and Methodology\",\"Faculty of Medical Sciences/UCL Medical School\",\"Faculty of the Built Environment/UCL Institute for Innovation and Public Purpose\",\"Faculty of the Built Environment/UCL Institute for Global Prosperity\",\"Faculty of Population Health Sciences/UCL Great Ormond Street Institute of Child Health\",\"Faculty of Population Health Sciences/UCL Elizabeth Garrett Anderson Institute for Women's Health\",\"Faculty of Arts and Humanities/UCL Arts and Sciences\",\"Faculty of the Built Environment/The Bartlett School of Sustainable Construction\",\"Faculty of the Built Environment/The Bartlett School of Planning\",\"UCL Institute of Education/UCL Institute of Education\",\"Faculty of Social and Historical Sciences\",\"Faculty of the Built Environment\",\"UCL Institute of Education\"],\"labels\":[\"Security and Crime Science\",\"Science, Technology, Engineering and Public Policy\",\"Science and Technology Studies\",\"School of European Languages, Culture and Society\",\"Political Science\",\"Physics and Astronomy\",\"Philosophy\",\"Medical Physics and Biomedical Engineering\",\"Space and Climate Physics\",\"The Bartlett School of Environment, Energy and Resources\",\"The Bartlett School of Architecture\",\"The Bartlett Development Planning Unit\",\"The Bartlett Centre for Advanced Spatial Analysis\",\"Statistical Science\",\"Slade School of Fine Art\",\"UCL Queen Square Institute of Neurology\",\"UCL School of Management\",\"UCL Urban Laboratory\",\"UK Dementia Research Institute HQ\",\"Faculty of Arts and Humanities\",\"Faculty of Brain Sciences\",\"Faculty of Engineering Sciences\",\"Faculty of Laws\",\"Faculty of Mathematical and Physical Sciences\",\"Faculty of Medical Sciences\",\"Faculty of Population Health Sciences\",\"Anthropology\",\"Biochemical Engineering\",\"Cancer Institute\",\"Chemical Engineering\",\"Chemistry\",\"Civil, Environmental and Geomatic Engineering\",\"Computer Science\",\"Division of Infection and Immunity\",\"Division of Medicine\",\"Division of Psychiatry\",\"Division of Psychology and Language Sciences\",\"Ear Institute\",\"Earth Sciences\",\"Division of Surgery and Interventional Science\",\"Eastman Dental Institute\",\"Economics\",\"Electronic and Electrical Engineering\",\"English Language and Literature\",\"Faculty of Laws\",\"Geography\",\"Global Business School for Health\",\"Greek and Latin\",\"Mathematics\",\"Institute of the Americas\",\"Institute of Prion Diseases\",\"Institute of Ophthalmology\",\"Institute of Health Informatics\",\"Hebrew and Jewish Studies\",\"History\",\"History of Art\",\"Information Studies\",\"Institute for Global Health\",\"Institute for Risk and Disaster Reduction\",\"Institute of Archaeology\",\"Institute of Cardiovascular Science\",\"Mechanical Engineering\",\"Institute of Epidemiology and Health Care\",\"Institute of Clinical Trials and Methodology\",\"UCL Medical School\",\"UCL Institute for Innovation and Public Purpose\",\"UCL Institute for Global Prosperity\",\"UCL Great Ormond Street Institute of Child Health\",\"UCL Elizabeth Garrett Anderson Institute for Women's Health\",\"UCL Arts and Sciences\",\"The Bartlett School of Sustainable Construction\",\"The Bartlett School of Planning\",\"UCL Institute of Education\",\"Faculty of Social and Historical Sciences\",\"Faculty of the Built Environment\",\"UCL Institute of Education\"],\"marker\":{\"colors\":[\"#1f77b4\",\"#1f77b4\",\"#ff7f0e\",\"#2ca02c\",\"#d62728\",\"#ff7f0e\",\"#2ca02c\",\"#1f77b4\",\"#ff7f0e\",\"#9467bd\",\"#9467bd\",\"#9467bd\",\"#9467bd\",\"#ff7f0e\",\"#2ca02c\",\"#8c564b\",\"#1f77b4\",\"#9467bd\",\"#8c564b\",\"#2ca02c\",\"#8c564b\",\"#1f77b4\",\"#e377c2\",\"#ff7f0e\",\"#7f7f7f\",\"#bcbd22\",\"#d62728\",\"#1f77b4\",\"#7f7f7f\",\"#1f77b4\",\"#ff7f0e\",\"#1f77b4\",\"#1f77b4\",\"#7f7f7f\",\"#7f7f7f\",\"#8c564b\",\"#8c564b\",\"#8c564b\",\"#ff7f0e\",\"#7f7f7f\",\"#7f7f7f\",\"#d62728\",\"#1f77b4\",\"#2ca02c\",\"#e377c2\",\"#d62728\",\"#bcbd22\",\"#2ca02c\",\"#ff7f0e\",\"#d62728\",\"#8c564b\",\"#8c564b\",\"#bcbd22\",\"#2ca02c\",\"#d62728\",\"#d62728\",\"#2ca02c\",\"#bcbd22\",\"#ff7f0e\",\"#d62728\",\"#bcbd22\",\"#1f77b4\",\"#bcbd22\",\"#bcbd22\",\"#7f7f7f\",\"#9467bd\",\"#9467bd\",\"#bcbd22\",\"#bcbd22\",\"#2ca02c\",\"#9467bd\",\"#9467bd\",\"#17becf\",\"#d62728\",\"#9467bd\",\"#17becf\"]},\"name\":\"\",\"parents\":[\"Faculty of Engineering Sciences\",\"Faculty of Engineering Sciences\",\"Faculty of Mathematical and Physical Sciences\",\"Faculty of Arts and Humanities\",\"Faculty of Social and Historical Sciences\",\"Faculty of Mathematical and Physical Sciences\",\"Faculty of Arts and Humanities\",\"Faculty of Engineering Sciences\",\"Faculty of Mathematical and Physical Sciences\",\"Faculty of the Built Environment\",\"Faculty of the Built Environment\",\"Faculty of the Built Environment\",\"Faculty of the Built Environment\",\"Faculty of Mathematical and Physical Sciences\",\"Faculty of Arts and Humanities\",\"Faculty of Brain Sciences\",\"Faculty of Engineering Sciences\",\"Faculty of the Built Environment\",\"Faculty of Brain Sciences\",\"\",\"\",\"\",\"\",\"\",\"\",\"\",\"Faculty of Social and Historical Sciences\",\"Faculty of Engineering Sciences\",\"Faculty of Medical Sciences\",\"Faculty of Engineering Sciences\",\"Faculty of Mathematical and Physical Sciences\",\"Faculty of Engineering Sciences\",\"Faculty of Engineering Sciences\",\"Faculty of Medical Sciences\",\"Faculty of Medical Sciences\",\"Faculty of Brain Sciences\",\"Faculty of Brain Sciences\",\"Faculty of Brain Sciences\",\"Faculty of Mathematical and Physical Sciences\",\"Faculty of Medical Sciences\",\"Faculty of Medical Sciences\",\"Faculty of Social and Historical Sciences\",\"Faculty of Engineering Sciences\",\"Faculty of Arts and Humanities\",\"Faculty of Laws\",\"Faculty of Social and Historical Sciences\",\"Faculty of Population Health Sciences\",\"Faculty of Arts and Humanities\",\"Faculty of Mathematical and Physical Sciences\",\"Faculty of Social and Historical Sciences\",\"Faculty of Brain Sciences\",\"Faculty of Brain Sciences\",\"Faculty of Population Health Sciences\",\"Faculty of Arts and Humanities\",\"Faculty of Social and Historical Sciences\",\"Faculty of Social and Historical Sciences\",\"Faculty of Arts and Humanities\",\"Faculty of Population Health Sciences\",\"Faculty of Mathematical and Physical Sciences\",\"Faculty of Social and Historical Sciences\",\"Faculty of Population Health Sciences\",\"Faculty of Engineering Sciences\",\"Faculty of Population Health Sciences\",\"Faculty of Population Health Sciences\",\"Faculty of Medical Sciences\",\"Faculty of the Built Environment\",\"Faculty of the Built Environment\",\"Faculty of Population Health Sciences\",\"Faculty of Population Health Sciences\",\"Faculty of Arts and Humanities\",\"Faculty of the Built Environment\",\"Faculty of the Built Environment\",\"UCL Institute of Education\",\"\",\"\",\"\"],\"values\":[285.0,90.0,210.0,750.0,2190.0,1135.0,305.0,405.0,220.0,0.0,0.0,0.0,0.0,670.0,255.0,425.0,2120.0,0.0,0.0,2260.0,3505.0,7025.0,0.0,4635.0,3745.0,965.0,1330.0,295.0,215.0,630.0,895.0,0.0,1375.0,120.0,580.0,235.0,2485.0,100.0,275.0,570.0,290.0,2760.0,825.0,420.0,0.0,1370.0,0.0,195.0,1145.0,400.0,15.0,245.0,225.0,50.0,1590.0,500.0,285.0,270.0,85.0,880.0,115.0,1000.0,310.0,45.0,1970.0,0.0,0.0,0.0,0.0,0.0,0.0,0.0,45.0,11020.0,0.0,45.0],\"type\":\"treemap\",\"textfont\":{\"size\":12},\"tiling\":{\"packing\":\"dice-slice\"},\"texttemplate\":\"%{label}<br>%{customdata[0]:,.0f}\"}],                        {\"template\":{\"data\":{\"histogram2dcontour\":[{\"type\":\"histogram2dcontour\",\"colorbar\":{\"outlinewidth\":0,\"ticks\":\"\"},\"colorscale\":[[0.0,\"#0d0887\"],[0.1111111111111111,\"#46039f\"],[0.2222222222222222,\"#7201a8\"],[0.3333333333333333,\"#9c179e\"],[0.4444444444444444,\"#bd3786\"],[0.5555555555555556,\"#d8576b\"],[0.6666666666666666,\"#ed7953\"],[0.7777777777777778,\"#fb9f3a\"],[0.8888888888888888,\"#fdca26\"],[1.0,\"#f0f921\"]]}],\"choropleth\":[{\"type\":\"choropleth\",\"colorbar\":{\"outlinewidth\":0,\"ticks\":\"\"}}],\"histogram2d\":[{\"type\":\"histogram2d\",\"colorbar\":{\"outlinewidth\":0,\"ticks\":\"\"},\"colorscale\":[[0.0,\"#0d0887\"],[0.1111111111111111,\"#46039f\"],[0.2222222222222222,\"#7201a8\"],[0.3333333333333333,\"#9c179e\"],[0.4444444444444444,\"#bd3786\"],[0.5555555555555556,\"#d8576b\"],[0.6666666666666666,\"#ed7953\"],[0.7777777777777778,\"#fb9f3a\"],[0.8888888888888888,\"#fdca26\"],[1.0,\"#f0f921\"]]}],\"heatmap\":[{\"type\":\"heatmap\",\"colorbar\":{\"outlinewidth\":0,\"ticks\":\"\"},\"colorscale\":[[0.0,\"#0d0887\"],[0.1111111111111111,\"#46039f\"],[0.2222222222222222,\"#7201a8\"],[0.3333333333333333,\"#9c179e\"],[0.4444444444444444,\"#bd3786\"],[0.5555555555555556,\"#d8576b\"],[0.6666666666666666,\"#ed7953\"],[0.7777777777777778,\"#fb9f3a\"],[0.8888888888888888,\"#fdca26\"],[1.0,\"#f0f921\"]]}],\"heatmapgl\":[{\"type\":\"heatmapgl\",\"colorbar\":{\"outlinewidth\":0,\"ticks\":\"\"},\"colorscale\":[[0.0,\"#0d0887\"],[0.1111111111111111,\"#46039f\"],[0.2222222222222222,\"#7201a8\"],[0.3333333333333333,\"#9c179e\"],[0.4444444444444444,\"#bd3786\"],[0.5555555555555556,\"#d8576b\"],[0.6666666666666666,\"#ed7953\"],[0.7777777777777778,\"#fb9f3a\"],[0.8888888888888888,\"#fdca26\"],[1.0,\"#f0f921\"]]}],\"contourcarpet\":[{\"type\":\"contourcarpet\",\"colorbar\":{\"outlinewidth\":0,\"ticks\":\"\"}}],\"contour\":[{\"type\":\"contour\",\"colorbar\":{\"outlinewidth\":0,\"ticks\":\"\"},\"colorscale\":[[0.0,\"#0d0887\"],[0.1111111111111111,\"#46039f\"],[0.2222222222222222,\"#7201a8\"],[0.3333333333333333,\"#9c179e\"],[0.4444444444444444,\"#bd3786\"],[0.5555555555555556,\"#d8576b\"],[0.6666666666666666,\"#ed7953\"],[0.7777777777777778,\"#fb9f3a\"],[0.8888888888888888,\"#fdca26\"],[1.0,\"#f0f921\"]]}],\"surface\":[{\"type\":\"surface\",\"colorbar\":{\"outlinewidth\":0,\"ticks\":\"\"},\"colorscale\":[[0.0,\"#0d0887\"],[0.1111111111111111,\"#46039f\"],[0.2222222222222222,\"#7201a8\"],[0.3333333333333333,\"#9c179e\"],[0.4444444444444444,\"#bd3786\"],[0.5555555555555556,\"#d8576b\"],[0.6666666666666666,\"#ed7953\"],[0.7777777777777778,\"#fb9f3a\"],[0.8888888888888888,\"#fdca26\"],[1.0,\"#f0f921\"]]}],\"mesh3d\":[{\"type\":\"mesh3d\",\"colorbar\":{\"outlinewidth\":0,\"ticks\":\"\"}}],\"scatter\":[{\"fillpattern\":{\"fillmode\":\"overlay\",\"size\":10,\"solidity\":0.2},\"type\":\"scatter\"}],\"parcoords\":[{\"type\":\"parcoords\",\"line\":{\"colorbar\":{\"outlinewidth\":0,\"ticks\":\"\"}}}],\"scatterpolargl\":[{\"type\":\"scatterpolargl\",\"marker\":{\"colorbar\":{\"outlinewidth\":0,\"ticks\":\"\"}}}],\"bar\":[{\"error_x\":{\"color\":\"#2a3f5f\"},\"error_y\":{\"color\":\"#2a3f5f\"},\"marker\":{\"line\":{\"color\":\"#E5ECF6\",\"width\":0.5},\"pattern\":{\"fillmode\":\"overlay\",\"size\":10,\"solidity\":0.2}},\"type\":\"bar\"}],\"scattergeo\":[{\"type\":\"scattergeo\",\"marker\":{\"colorbar\":{\"outlinewidth\":0,\"ticks\":\"\"}}}],\"scatterpolar\":[{\"type\":\"scatterpolar\",\"marker\":{\"colorbar\":{\"outlinewidth\":0,\"ticks\":\"\"}}}],\"histogram\":[{\"marker\":{\"pattern\":{\"fillmode\":\"overlay\",\"size\":10,\"solidity\":0.2}},\"type\":\"histogram\"}],\"scattergl\":[{\"type\":\"scattergl\",\"marker\":{\"colorbar\":{\"outlinewidth\":0,\"ticks\":\"\"}}}],\"scatter3d\":[{\"type\":\"scatter3d\",\"line\":{\"colorbar\":{\"outlinewidth\":0,\"ticks\":\"\"}},\"marker\":{\"colorbar\":{\"outlinewidth\":0,\"ticks\":\"\"}}}],\"scattermapbox\":[{\"type\":\"scattermapbox\",\"marker\":{\"colorbar\":{\"outlinewidth\":0,\"ticks\":\"\"}}}],\"scatterternary\":[{\"type\":\"scatterternary\",\"marker\":{\"colorbar\":{\"outlinewidth\":0,\"ticks\":\"\"}}}],\"scattercarpet\":[{\"type\":\"scattercarpet\",\"marker\":{\"colorbar\":{\"outlinewidth\":0,\"ticks\":\"\"}}}],\"carpet\":[{\"aaxis\":{\"endlinecolor\":\"#2a3f5f\",\"gridcolor\":\"white\",\"linecolor\":\"white\",\"minorgridcolor\":\"white\",\"startlinecolor\":\"#2a3f5f\"},\"baxis\":{\"endlinecolor\":\"#2a3f5f\",\"gridcolor\":\"white\",\"linecolor\":\"white\",\"minorgridcolor\":\"white\",\"startlinecolor\":\"#2a3f5f\"},\"type\":\"carpet\"}],\"table\":[{\"cells\":{\"fill\":{\"color\":\"#EBF0F8\"},\"line\":{\"color\":\"white\"}},\"header\":{\"fill\":{\"color\":\"#C8D4E3\"},\"line\":{\"color\":\"white\"}},\"type\":\"table\"}],\"barpolar\":[{\"marker\":{\"line\":{\"color\":\"#E5ECF6\",\"width\":0.5},\"pattern\":{\"fillmode\":\"overlay\",\"size\":10,\"solidity\":0.2}},\"type\":\"barpolar\"}],\"pie\":[{\"automargin\":true,\"type\":\"pie\"}]},\"layout\":{\"autotypenumbers\":\"strict\",\"colorway\":[\"#636efa\",\"#EF553B\",\"#00cc96\",\"#ab63fa\",\"#FFA15A\",\"#19d3f3\",\"#FF6692\",\"#B6E880\",\"#FF97FF\",\"#FECB52\"],\"font\":{\"color\":\"#2a3f5f\"},\"hovermode\":\"closest\",\"hoverlabel\":{\"align\":\"left\"},\"paper_bgcolor\":\"white\",\"plot_bgcolor\":\"#E5ECF6\",\"polar\":{\"bgcolor\":\"#E5ECF6\",\"angularaxis\":{\"gridcolor\":\"white\",\"linecolor\":\"white\",\"ticks\":\"\"},\"radialaxis\":{\"gridcolor\":\"white\",\"linecolor\":\"white\",\"ticks\":\"\"}},\"ternary\":{\"bgcolor\":\"#E5ECF6\",\"aaxis\":{\"gridcolor\":\"white\",\"linecolor\":\"white\",\"ticks\":\"\"},\"baxis\":{\"gridcolor\":\"white\",\"linecolor\":\"white\",\"ticks\":\"\"},\"caxis\":{\"gridcolor\":\"white\",\"linecolor\":\"white\",\"ticks\":\"\"}},\"coloraxis\":{\"colorbar\":{\"outlinewidth\":0,\"ticks\":\"\"}},\"colorscale\":{\"sequential\":[[0.0,\"#0d0887\"],[0.1111111111111111,\"#46039f\"],[0.2222222222222222,\"#7201a8\"],[0.3333333333333333,\"#9c179e\"],[0.4444444444444444,\"#bd3786\"],[0.5555555555555556,\"#d8576b\"],[0.6666666666666666,\"#ed7953\"],[0.7777777777777778,\"#fb9f3a\"],[0.8888888888888888,\"#fdca26\"],[1.0,\"#f0f921\"]],\"sequentialminus\":[[0.0,\"#0d0887\"],[0.1111111111111111,\"#46039f\"],[0.2222222222222222,\"#7201a8\"],[0.3333333333333333,\"#9c179e\"],[0.4444444444444444,\"#bd3786\"],[0.5555555555555556,\"#d8576b\"],[0.6666666666666666,\"#ed7953\"],[0.7777777777777778,\"#fb9f3a\"],[0.8888888888888888,\"#fdca26\"],[1.0,\"#f0f921\"]],\"diverging\":[[0,\"#8e0152\"],[0.1,\"#c51b7d\"],[0.2,\"#de77ae\"],[0.3,\"#f1b6da\"],[0.4,\"#fde0ef\"],[0.5,\"#f7f7f7\"],[0.6,\"#e6f5d0\"],[0.7,\"#b8e186\"],[0.8,\"#7fbc41\"],[0.9,\"#4d9221\"],[1,\"#276419\"]]},\"xaxis\":{\"gridcolor\":\"white\",\"linecolor\":\"white\",\"ticks\":\"\",\"title\":{\"standoff\":15},\"zerolinecolor\":\"white\",\"automargin\":true,\"zerolinewidth\":2},\"yaxis\":{\"gridcolor\":\"white\",\"linecolor\":\"white\",\"ticks\":\"\",\"title\":{\"standoff\":15},\"zerolinecolor\":\"white\",\"automargin\":true,\"zerolinewidth\":2},\"scene\":{\"xaxis\":{\"backgroundcolor\":\"#E5ECF6\",\"gridcolor\":\"white\",\"linecolor\":\"white\",\"showbackground\":true,\"ticks\":\"\",\"zerolinecolor\":\"white\",\"gridwidth\":2},\"yaxis\":{\"backgroundcolor\":\"#E5ECF6\",\"gridcolor\":\"white\",\"linecolor\":\"white\",\"showbackground\":true,\"ticks\":\"\",\"zerolinecolor\":\"white\",\"gridwidth\":2},\"zaxis\":{\"backgroundcolor\":\"#E5ECF6\",\"gridcolor\":\"white\",\"linecolor\":\"white\",\"showbackground\":true,\"ticks\":\"\",\"zerolinecolor\":\"white\",\"gridwidth\":2}},\"shapedefaults\":{\"line\":{\"color\":\"#2a3f5f\"}},\"annotationdefaults\":{\"arrowcolor\":\"#2a3f5f\",\"arrowhead\":0,\"arrowwidth\":1},\"geo\":{\"bgcolor\":\"white\",\"landcolor\":\"#E5ECF6\",\"subunitcolor\":\"white\",\"showland\":true,\"showlakes\":true,\"lakecolor\":\"white\"},\"title\":{\"x\":0.05},\"mapbox\":{\"style\":\"light\"}}},\"legend\":{\"tracegroupgap\":0},\"margin\":{\"t\":50,\"b\":50,\"l\":50,\"r\":50},\"treemapcolorway\":[\"#1f77b4\",\"#ff7f0e\",\"#2ca02c\",\"#d62728\",\"#9467bd\",\"#8c564b\",\"#e377c2\",\"#7f7f7f\",\"#bcbd22\",\"#17becf\"]},                        {\"responsive\": true}                    ).then(function(){\n",
       "                            \n",
       "var gd = document.getElementById('3f84ece2-6a87-42bf-bd95-87bf37670731');\n",
       "var x = new MutationObserver(function (mutations, observer) {{\n",
       "        var display = window.getComputedStyle(gd).display;\n",
       "        if (!display || display === 'none') {{\n",
       "            console.log([gd, 'removed!']);\n",
       "            Plotly.purge(gd);\n",
       "            observer.disconnect();\n",
       "        }}\n",
       "}});\n",
       "\n",
       "// Listen for the removal of the full notebook cells\n",
       "var notebookContainer = gd.closest('#notebook-container');\n",
       "if (notebookContainer) {{\n",
       "    x.observe(notebookContainer, {childList: true});\n",
       "}}\n",
       "\n",
       "// Listen for the clearing of the current output cell\n",
       "var outputEl = gd.closest('.output');\n",
       "if (outputEl) {{\n",
       "    x.observe(outputEl, {childList: true});\n",
       "}}\n",
       "\n",
       "                        })                };                });            </script>        </div>"
      ]
     },
     "metadata": {},
     "output_type": "display_data"
    }
   ],
   "source": [
    "fig = px.treemap(merged, \n",
    "                 path=['Faculty', 'Department'], \n",
    "                 values='Total',\n",
    "                 color='Faculty',\n",
    "                 color_discrete_sequence=colors,\n",
    "                 branchvalues='total',\n",
    "                 hover_data={'Total': ':.2f'},\n",
    "                 color_continuous_scale='RdBu',\n",
    "                 custom_data=['Total'],\n",
    "                 \n",
    "                 )\n",
    "fig.update_traces(\n",
    "    textfont_size=12,\n",
    "    texttemplate='%{label}<br>%{customdata[0]:,.0f}',\n",
    "    hovertemplate='<b>%{label}</b><br>Total: %{value:.2f}<br>',\n",
    "    tiling_packing = \"dice-slice\",\n",
    "    )\n",
    "fig.update_layout(\n",
    "    margin=dict(t=50, b=50, l=50, r=50),\n",
    "    )\n",
    "fig.show()"
   ]
  },
  {
   "cell_type": "code",
   "execution_count": null,
   "id": "755d98a0",
   "metadata": {},
   "outputs": [],
   "source": []
  }
 ],
 "metadata": {
  "kernelspec": {
   "display_name": "Python 3 (ipykernel)",
   "language": "python",
   "name": "python3"
  },
  "language_info": {
   "codemirror_mode": {
    "name": "ipython",
    "version": 3
   },
   "file_extension": ".py",
   "mimetype": "text/x-python",
   "name": "python",
   "nbconvert_exporter": "python",
   "pygments_lexer": "ipython3",
   "version": "3.9.13"
  }
 },
 "nbformat": 4,
 "nbformat_minor": 5
}
